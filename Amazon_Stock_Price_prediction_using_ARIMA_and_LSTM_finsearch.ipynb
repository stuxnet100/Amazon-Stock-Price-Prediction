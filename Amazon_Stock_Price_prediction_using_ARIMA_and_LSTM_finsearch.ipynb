{
  "cells": [
    {
      "cell_type": "markdown",
      "metadata": {
        "id": "_jMBTKtPWTP4"
      },
      "source": [
        "TIME SERIES ANALYSIS FOR STOCK MARKET DATA SPECIFICALLY AMAZON. DATA SOURCE IS YAHOO.API.\n",
        "\n",
        "\n",
        "**1.   Data Exploration**\n",
        "\n",
        "**2.   Making a time series window**\n",
        "\n",
        "**3.   Feature engineering from the data**\n",
        "\n",
        "**4. Make an ARIMA model**\n",
        "\n",
        "\n",
        "**5.Make a LSTM model with multiple features**\n",
        "\n",
        "\n",
        "\n",
        "\n"
      ]
    },
    {
      "cell_type": "code",
      "execution_count": 77,
      "metadata": {
        "id": "6vnt8KyUA885"
      },
      "outputs": [],
      "source": [
        "import pandas as pd\n",
        "# downloaded = drive.CreateFile({'id':id}) \n",
        "# downloaded.GetContentFile('AMZN.csv')\n",
        "# Dataset is now stored in a Pandas Dataframe\n"
      ]
    },
    {
      "cell_type": "code",
      "execution_count": 78,
      "metadata": {
        "id": "XeoyRs8hCwTX",
        "colab": {
          "base_uri": "https://localhost:8080/"
        },
        "outputId": "3cdbc9d0-dea4-44dc-a934-cb55e07c44e4"
      },
      "outputs": [
        {
          "output_type": "stream",
          "name": "stdout",
          "text": [
            "Looking in indexes: https://pypi.org/simple, https://us-python.pkg.dev/colab-wheels/public/simple/\n",
            "Requirement already satisfied: mxnet in /usr/local/lib/python3.7/dist-packages (1.9.1)\n",
            "Requirement already satisfied: graphviz<0.9.0,>=0.8.1 in /usr/local/lib/python3.7/dist-packages (from mxnet) (0.8.4)\n",
            "Requirement already satisfied: numpy<2.0.0,>1.16.0 in /usr/local/lib/python3.7/dist-packages (from mxnet) (1.21.6)\n",
            "Requirement already satisfied: requests<3,>=2.20.0 in /usr/local/lib/python3.7/dist-packages (from mxnet) (2.23.0)\n",
            "Requirement already satisfied: urllib3!=1.25.0,!=1.25.1,<1.26,>=1.21.1 in /usr/local/lib/python3.7/dist-packages (from requests<3,>=2.20.0->mxnet) (1.24.3)\n",
            "Requirement already satisfied: idna<3,>=2.5 in /usr/local/lib/python3.7/dist-packages (from requests<3,>=2.20.0->mxnet) (2.10)\n",
            "Requirement already satisfied: certifi>=2017.4.17 in /usr/local/lib/python3.7/dist-packages (from requests<3,>=2.20.0->mxnet) (2022.6.15)\n",
            "Requirement already satisfied: chardet<4,>=3.0.2 in /usr/local/lib/python3.7/dist-packages (from requests<3,>=2.20.0->mxnet) (3.0.4)\n"
          ]
        }
      ],
      "source": [
        "pip install mxnet"
      ]
    },
    {
      "cell_type": "markdown",
      "metadata": {
        "id": "Encu5lTtt215"
      },
      "source": [
        "**install mxnet a python package for time series data great for visualization**"
      ]
    },
    {
      "cell_type": "code",
      "execution_count": 79,
      "metadata": {
        "id": "Z-n42rXkBY4x"
      },
      "outputs": [],
      "source": [
        "import time\n",
        "import numpy as np\n",
        "\n",
        "from mxnet import nd, autograd, gluon\n",
        "from mxnet.gluon import nn, rnn\n",
        "import mxnet as mx\n",
        "import datetime\n",
        "import seaborn as sns\n",
        "\n",
        "import matplotlib.pyplot as plt\n",
        "%matplotlib inline\n",
        "from sklearn.decomposition import PCA\n",
        "\n",
        "import math\n",
        "\n",
        "from sklearn.preprocessing import MinMaxScaler\n",
        "from sklearn.metrics import mean_squared_error\n",
        "from sklearn.preprocessing import StandardScaler\n",
        "\n",
        "import xgboost as xgb\n",
        "from sklearn.metrics import accuracy_score"
      ]
    },
    {
      "cell_type": "code",
      "execution_count": 80,
      "metadata": {
        "id": "nGy43Rr9FAhT"
      },
      "outputs": [],
      "source": [
        "import warnings\n",
        "warnings.filterwarnings(\"ignore\")"
      ]
    },
    {
      "cell_type": "code",
      "execution_count": 81,
      "metadata": {
        "id": "acikqo6lVWgM"
      },
      "outputs": [],
      "source": [
        "context = mx.cpu(); model_ctx=mx.cpu()\n",
        "mx.random.seed(1719)"
      ]
    },
    {
      "cell_type": "markdown",
      "metadata": {
        "id": "7qUPd_qSuiaI"
      },
      "source": [
        "Setting up mxnet model \n",
        "Need this to create an ARIMA model and Fourier series model easily "
      ]
    },
    {
      "cell_type": "code",
      "execution_count": 82,
      "metadata": {
        "id": "KuwLSx1BVjK7"
      },
      "outputs": [],
      "source": [
        "def parser(x):\n",
        "    return datetime.datetime.strptime(x,'%Y-%m-%d')"
      ]
    },
    {
      "cell_type": "markdown",
      "metadata": {
        "id": "oGloNVdKu4ZQ"
      },
      "source": [
        "**Always sort time and format it properily for time series data. Here sorted out it month-date-year format.** "
      ]
    },
    {
      "cell_type": "code",
      "execution_count": 83,
      "metadata": {
        "id": "wSc4anFn8nKW"
      },
      "outputs": [],
      "source": [
        "d=pd.read_csv(\"dat_amazon.csv\")"
      ]
    },
    {
      "cell_type": "code",
      "execution_count": 84,
      "metadata": {
        "id": "Gcwir6cy8ruM",
        "colab": {
          "base_uri": "https://localhost:8080/",
          "height": 206
        },
        "outputId": "66d2e1d2-2f35-472d-ab0d-37a02ae7ea44"
      },
      "outputs": [
        {
          "output_type": "execute_result",
          "data": {
            "text/plain": [
              "         Date     Open     High      Low    Close  Adj Close     Volume\n",
              "0  2012-08-30  12.3495  12.5000  12.2625  12.3110    12.3110   72950000\n",
              "1  2012-08-31  12.4035  12.4725  12.2750  12.4135    12.4135   66950000\n",
              "2  2012-09-04  12.4135  12.5500  12.2330  12.3940    12.3940   79016000\n",
              "3  2012-09-05  12.3805  12.4305  12.2650  12.3110    12.3110   53052000\n",
              "4  2012-09-06  12.4115  12.6350  12.3600  12.5690    12.5690  107228000"
            ],
            "text/html": [
              "\n",
              "  <div id=\"df-141f0e81-ed21-4aaf-b4ea-fd17f8671d93\">\n",
              "    <div class=\"colab-df-container\">\n",
              "      <div>\n",
              "<style scoped>\n",
              "    .dataframe tbody tr th:only-of-type {\n",
              "        vertical-align: middle;\n",
              "    }\n",
              "\n",
              "    .dataframe tbody tr th {\n",
              "        vertical-align: top;\n",
              "    }\n",
              "\n",
              "    .dataframe thead th {\n",
              "        text-align: right;\n",
              "    }\n",
              "</style>\n",
              "<table border=\"1\" class=\"dataframe\">\n",
              "  <thead>\n",
              "    <tr style=\"text-align: right;\">\n",
              "      <th></th>\n",
              "      <th>Date</th>\n",
              "      <th>Open</th>\n",
              "      <th>High</th>\n",
              "      <th>Low</th>\n",
              "      <th>Close</th>\n",
              "      <th>Adj Close</th>\n",
              "      <th>Volume</th>\n",
              "    </tr>\n",
              "  </thead>\n",
              "  <tbody>\n",
              "    <tr>\n",
              "      <th>0</th>\n",
              "      <td>2012-08-30</td>\n",
              "      <td>12.3495</td>\n",
              "      <td>12.5000</td>\n",
              "      <td>12.2625</td>\n",
              "      <td>12.3110</td>\n",
              "      <td>12.3110</td>\n",
              "      <td>72950000</td>\n",
              "    </tr>\n",
              "    <tr>\n",
              "      <th>1</th>\n",
              "      <td>2012-08-31</td>\n",
              "      <td>12.4035</td>\n",
              "      <td>12.4725</td>\n",
              "      <td>12.2750</td>\n",
              "      <td>12.4135</td>\n",
              "      <td>12.4135</td>\n",
              "      <td>66950000</td>\n",
              "    </tr>\n",
              "    <tr>\n",
              "      <th>2</th>\n",
              "      <td>2012-09-04</td>\n",
              "      <td>12.4135</td>\n",
              "      <td>12.5500</td>\n",
              "      <td>12.2330</td>\n",
              "      <td>12.3940</td>\n",
              "      <td>12.3940</td>\n",
              "      <td>79016000</td>\n",
              "    </tr>\n",
              "    <tr>\n",
              "      <th>3</th>\n",
              "      <td>2012-09-05</td>\n",
              "      <td>12.3805</td>\n",
              "      <td>12.4305</td>\n",
              "      <td>12.2650</td>\n",
              "      <td>12.3110</td>\n",
              "      <td>12.3110</td>\n",
              "      <td>53052000</td>\n",
              "    </tr>\n",
              "    <tr>\n",
              "      <th>4</th>\n",
              "      <td>2012-09-06</td>\n",
              "      <td>12.4115</td>\n",
              "      <td>12.6350</td>\n",
              "      <td>12.3600</td>\n",
              "      <td>12.5690</td>\n",
              "      <td>12.5690</td>\n",
              "      <td>107228000</td>\n",
              "    </tr>\n",
              "  </tbody>\n",
              "</table>\n",
              "</div>\n",
              "      <button class=\"colab-df-convert\" onclick=\"convertToInteractive('df-141f0e81-ed21-4aaf-b4ea-fd17f8671d93')\"\n",
              "              title=\"Convert this dataframe to an interactive table.\"\n",
              "              style=\"display:none;\">\n",
              "        \n",
              "  <svg xmlns=\"http://www.w3.org/2000/svg\" height=\"24px\"viewBox=\"0 0 24 24\"\n",
              "       width=\"24px\">\n",
              "    <path d=\"M0 0h24v24H0V0z\" fill=\"none\"/>\n",
              "    <path d=\"M18.56 5.44l.94 2.06.94-2.06 2.06-.94-2.06-.94-.94-2.06-.94 2.06-2.06.94zm-11 1L8.5 8.5l.94-2.06 2.06-.94-2.06-.94L8.5 2.5l-.94 2.06-2.06.94zm10 10l.94 2.06.94-2.06 2.06-.94-2.06-.94-.94-2.06-.94 2.06-2.06.94z\"/><path d=\"M17.41 7.96l-1.37-1.37c-.4-.4-.92-.59-1.43-.59-.52 0-1.04.2-1.43.59L10.3 9.45l-7.72 7.72c-.78.78-.78 2.05 0 2.83L4 21.41c.39.39.9.59 1.41.59.51 0 1.02-.2 1.41-.59l7.78-7.78 2.81-2.81c.8-.78.8-2.07 0-2.86zM5.41 20L4 18.59l7.72-7.72 1.47 1.35L5.41 20z\"/>\n",
              "  </svg>\n",
              "      </button>\n",
              "      \n",
              "  <style>\n",
              "    .colab-df-container {\n",
              "      display:flex;\n",
              "      flex-wrap:wrap;\n",
              "      gap: 12px;\n",
              "    }\n",
              "\n",
              "    .colab-df-convert {\n",
              "      background-color: #E8F0FE;\n",
              "      border: none;\n",
              "      border-radius: 50%;\n",
              "      cursor: pointer;\n",
              "      display: none;\n",
              "      fill: #1967D2;\n",
              "      height: 32px;\n",
              "      padding: 0 0 0 0;\n",
              "      width: 32px;\n",
              "    }\n",
              "\n",
              "    .colab-df-convert:hover {\n",
              "      background-color: #E2EBFA;\n",
              "      box-shadow: 0px 1px 2px rgba(60, 64, 67, 0.3), 0px 1px 3px 1px rgba(60, 64, 67, 0.15);\n",
              "      fill: #174EA6;\n",
              "    }\n",
              "\n",
              "    [theme=dark] .colab-df-convert {\n",
              "      background-color: #3B4455;\n",
              "      fill: #D2E3FC;\n",
              "    }\n",
              "\n",
              "    [theme=dark] .colab-df-convert:hover {\n",
              "      background-color: #434B5C;\n",
              "      box-shadow: 0px 1px 3px 1px rgba(0, 0, 0, 0.15);\n",
              "      filter: drop-shadow(0px 1px 2px rgba(0, 0, 0, 0.3));\n",
              "      fill: #FFFFFF;\n",
              "    }\n",
              "  </style>\n",
              "\n",
              "      <script>\n",
              "        const buttonEl =\n",
              "          document.querySelector('#df-141f0e81-ed21-4aaf-b4ea-fd17f8671d93 button.colab-df-convert');\n",
              "        buttonEl.style.display =\n",
              "          google.colab.kernel.accessAllowed ? 'block' : 'none';\n",
              "\n",
              "        async function convertToInteractive(key) {\n",
              "          const element = document.querySelector('#df-141f0e81-ed21-4aaf-b4ea-fd17f8671d93');\n",
              "          const dataTable =\n",
              "            await google.colab.kernel.invokeFunction('convertToInteractive',\n",
              "                                                     [key], {});\n",
              "          if (!dataTable) return;\n",
              "\n",
              "          const docLinkHtml = 'Like what you see? Visit the ' +\n",
              "            '<a target=\"_blank\" href=https://colab.research.google.com/notebooks/data_table.ipynb>data table notebook</a>'\n",
              "            + ' to learn more about interactive tables.';\n",
              "          element.innerHTML = '';\n",
              "          dataTable['output_type'] = 'display_data';\n",
              "          await google.colab.output.renderOutput(dataTable, element);\n",
              "          const docLink = document.createElement('div');\n",
              "          docLink.innerHTML = docLinkHtml;\n",
              "          element.appendChild(docLink);\n",
              "        }\n",
              "      </script>\n",
              "    </div>\n",
              "  </div>\n",
              "  "
            ]
          },
          "metadata": {},
          "execution_count": 84
        }
      ],
      "source": [
        "d.head()"
      ]
    },
    {
      "cell_type": "code",
      "execution_count": 85,
      "metadata": {
        "id": "iIX76FltX8yD"
      },
      "outputs": [],
      "source": [
        "import pandas as pd"
      ]
    },
    {
      "cell_type": "code",
      "execution_count": 86,
      "metadata": {
        "id": "u33F4vKcHEjU"
      },
      "outputs": [],
      "source": [
        "dataset_ex_df = pd.read_csv(\"dat_amazon.csv\", header=0, parse_dates=[0], date_parser=parser)"
      ]
    },
    {
      "cell_type": "code",
      "execution_count": 86,
      "metadata": {
        "id": "9FC7CjO08WmD"
      },
      "outputs": [],
      "source": [
        ""
      ]
    },
    {
      "cell_type": "code",
      "execution_count": 87,
      "metadata": {
        "id": "Z1xC7kqn8LuF",
        "colab": {
          "base_uri": "https://localhost:8080/",
          "height": 206
        },
        "outputId": "01475383-67cf-46ee-b94b-e8156e5f2a24"
      },
      "outputs": [
        {
          "output_type": "execute_result",
          "data": {
            "text/plain": [
              "        Date     Open     High      Low    Close  Adj Close     Volume\n",
              "0 2012-08-30  12.3495  12.5000  12.2625  12.3110    12.3110   72950000\n",
              "1 2012-08-31  12.4035  12.4725  12.2750  12.4135    12.4135   66950000\n",
              "2 2012-09-04  12.4135  12.5500  12.2330  12.3940    12.3940   79016000\n",
              "3 2012-09-05  12.3805  12.4305  12.2650  12.3110    12.3110   53052000\n",
              "4 2012-09-06  12.4115  12.6350  12.3600  12.5690    12.5690  107228000"
            ],
            "text/html": [
              "\n",
              "  <div id=\"df-9871b400-d82d-4ddc-bc39-80d95c025d70\">\n",
              "    <div class=\"colab-df-container\">\n",
              "      <div>\n",
              "<style scoped>\n",
              "    .dataframe tbody tr th:only-of-type {\n",
              "        vertical-align: middle;\n",
              "    }\n",
              "\n",
              "    .dataframe tbody tr th {\n",
              "        vertical-align: top;\n",
              "    }\n",
              "\n",
              "    .dataframe thead th {\n",
              "        text-align: right;\n",
              "    }\n",
              "</style>\n",
              "<table border=\"1\" class=\"dataframe\">\n",
              "  <thead>\n",
              "    <tr style=\"text-align: right;\">\n",
              "      <th></th>\n",
              "      <th>Date</th>\n",
              "      <th>Open</th>\n",
              "      <th>High</th>\n",
              "      <th>Low</th>\n",
              "      <th>Close</th>\n",
              "      <th>Adj Close</th>\n",
              "      <th>Volume</th>\n",
              "    </tr>\n",
              "  </thead>\n",
              "  <tbody>\n",
              "    <tr>\n",
              "      <th>0</th>\n",
              "      <td>2012-08-30</td>\n",
              "      <td>12.3495</td>\n",
              "      <td>12.5000</td>\n",
              "      <td>12.2625</td>\n",
              "      <td>12.3110</td>\n",
              "      <td>12.3110</td>\n",
              "      <td>72950000</td>\n",
              "    </tr>\n",
              "    <tr>\n",
              "      <th>1</th>\n",
              "      <td>2012-08-31</td>\n",
              "      <td>12.4035</td>\n",
              "      <td>12.4725</td>\n",
              "      <td>12.2750</td>\n",
              "      <td>12.4135</td>\n",
              "      <td>12.4135</td>\n",
              "      <td>66950000</td>\n",
              "    </tr>\n",
              "    <tr>\n",
              "      <th>2</th>\n",
              "      <td>2012-09-04</td>\n",
              "      <td>12.4135</td>\n",
              "      <td>12.5500</td>\n",
              "      <td>12.2330</td>\n",
              "      <td>12.3940</td>\n",
              "      <td>12.3940</td>\n",
              "      <td>79016000</td>\n",
              "    </tr>\n",
              "    <tr>\n",
              "      <th>3</th>\n",
              "      <td>2012-09-05</td>\n",
              "      <td>12.3805</td>\n",
              "      <td>12.4305</td>\n",
              "      <td>12.2650</td>\n",
              "      <td>12.3110</td>\n",
              "      <td>12.3110</td>\n",
              "      <td>53052000</td>\n",
              "    </tr>\n",
              "    <tr>\n",
              "      <th>4</th>\n",
              "      <td>2012-09-06</td>\n",
              "      <td>12.4115</td>\n",
              "      <td>12.6350</td>\n",
              "      <td>12.3600</td>\n",
              "      <td>12.5690</td>\n",
              "      <td>12.5690</td>\n",
              "      <td>107228000</td>\n",
              "    </tr>\n",
              "  </tbody>\n",
              "</table>\n",
              "</div>\n",
              "      <button class=\"colab-df-convert\" onclick=\"convertToInteractive('df-9871b400-d82d-4ddc-bc39-80d95c025d70')\"\n",
              "              title=\"Convert this dataframe to an interactive table.\"\n",
              "              style=\"display:none;\">\n",
              "        \n",
              "  <svg xmlns=\"http://www.w3.org/2000/svg\" height=\"24px\"viewBox=\"0 0 24 24\"\n",
              "       width=\"24px\">\n",
              "    <path d=\"M0 0h24v24H0V0z\" fill=\"none\"/>\n",
              "    <path d=\"M18.56 5.44l.94 2.06.94-2.06 2.06-.94-2.06-.94-.94-2.06-.94 2.06-2.06.94zm-11 1L8.5 8.5l.94-2.06 2.06-.94-2.06-.94L8.5 2.5l-.94 2.06-2.06.94zm10 10l.94 2.06.94-2.06 2.06-.94-2.06-.94-.94-2.06-.94 2.06-2.06.94z\"/><path d=\"M17.41 7.96l-1.37-1.37c-.4-.4-.92-.59-1.43-.59-.52 0-1.04.2-1.43.59L10.3 9.45l-7.72 7.72c-.78.78-.78 2.05 0 2.83L4 21.41c.39.39.9.59 1.41.59.51 0 1.02-.2 1.41-.59l7.78-7.78 2.81-2.81c.8-.78.8-2.07 0-2.86zM5.41 20L4 18.59l7.72-7.72 1.47 1.35L5.41 20z\"/>\n",
              "  </svg>\n",
              "      </button>\n",
              "      \n",
              "  <style>\n",
              "    .colab-df-container {\n",
              "      display:flex;\n",
              "      flex-wrap:wrap;\n",
              "      gap: 12px;\n",
              "    }\n",
              "\n",
              "    .colab-df-convert {\n",
              "      background-color: #E8F0FE;\n",
              "      border: none;\n",
              "      border-radius: 50%;\n",
              "      cursor: pointer;\n",
              "      display: none;\n",
              "      fill: #1967D2;\n",
              "      height: 32px;\n",
              "      padding: 0 0 0 0;\n",
              "      width: 32px;\n",
              "    }\n",
              "\n",
              "    .colab-df-convert:hover {\n",
              "      background-color: #E2EBFA;\n",
              "      box-shadow: 0px 1px 2px rgba(60, 64, 67, 0.3), 0px 1px 3px 1px rgba(60, 64, 67, 0.15);\n",
              "      fill: #174EA6;\n",
              "    }\n",
              "\n",
              "    [theme=dark] .colab-df-convert {\n",
              "      background-color: #3B4455;\n",
              "      fill: #D2E3FC;\n",
              "    }\n",
              "\n",
              "    [theme=dark] .colab-df-convert:hover {\n",
              "      background-color: #434B5C;\n",
              "      box-shadow: 0px 1px 3px 1px rgba(0, 0, 0, 0.15);\n",
              "      filter: drop-shadow(0px 1px 2px rgba(0, 0, 0, 0.3));\n",
              "      fill: #FFFFFF;\n",
              "    }\n",
              "  </style>\n",
              "\n",
              "      <script>\n",
              "        const buttonEl =\n",
              "          document.querySelector('#df-9871b400-d82d-4ddc-bc39-80d95c025d70 button.colab-df-convert');\n",
              "        buttonEl.style.display =\n",
              "          google.colab.kernel.accessAllowed ? 'block' : 'none';\n",
              "\n",
              "        async function convertToInteractive(key) {\n",
              "          const element = document.querySelector('#df-9871b400-d82d-4ddc-bc39-80d95c025d70');\n",
              "          const dataTable =\n",
              "            await google.colab.kernel.invokeFunction('convertToInteractive',\n",
              "                                                     [key], {});\n",
              "          if (!dataTable) return;\n",
              "\n",
              "          const docLinkHtml = 'Like what you see? Visit the ' +\n",
              "            '<a target=\"_blank\" href=https://colab.research.google.com/notebooks/data_table.ipynb>data table notebook</a>'\n",
              "            + ' to learn more about interactive tables.';\n",
              "          element.innerHTML = '';\n",
              "          dataTable['output_type'] = 'display_data';\n",
              "          await google.colab.output.renderOutput(dataTable, element);\n",
              "          const docLink = document.createElement('div');\n",
              "          docLink.innerHTML = docLinkHtml;\n",
              "          element.appendChild(docLink);\n",
              "        }\n",
              "      </script>\n",
              "    </div>\n",
              "  </div>\n",
              "  "
            ]
          },
          "metadata": {},
          "execution_count": 87
        }
      ],
      "source": [
        "dataset_ex_df.head()"
      ]
    },
    {
      "cell_type": "code",
      "execution_count": 88,
      "metadata": {
        "id": "8pMM2w-cHsv3",
        "colab": {
          "base_uri": "https://localhost:8080/",
          "height": 143
        },
        "outputId": "2ad9b390-7512-4355-9d38-3d832cfed48c"
      },
      "outputs": [
        {
          "output_type": "execute_result",
          "data": {
            "text/plain": [
              "        Date    Close\n",
              "0 2012-08-30  12.3110\n",
              "1 2012-08-31  12.4135\n",
              "2 2012-09-04  12.3940"
            ],
            "text/html": [
              "\n",
              "  <div id=\"df-527ee3e3-48e0-4320-a3e8-b7ebf52fca21\">\n",
              "    <div class=\"colab-df-container\">\n",
              "      <div>\n",
              "<style scoped>\n",
              "    .dataframe tbody tr th:only-of-type {\n",
              "        vertical-align: middle;\n",
              "    }\n",
              "\n",
              "    .dataframe tbody tr th {\n",
              "        vertical-align: top;\n",
              "    }\n",
              "\n",
              "    .dataframe thead th {\n",
              "        text-align: right;\n",
              "    }\n",
              "</style>\n",
              "<table border=\"1\" class=\"dataframe\">\n",
              "  <thead>\n",
              "    <tr style=\"text-align: right;\">\n",
              "      <th></th>\n",
              "      <th>Date</th>\n",
              "      <th>Close</th>\n",
              "    </tr>\n",
              "  </thead>\n",
              "  <tbody>\n",
              "    <tr>\n",
              "      <th>0</th>\n",
              "      <td>2012-08-30</td>\n",
              "      <td>12.3110</td>\n",
              "    </tr>\n",
              "    <tr>\n",
              "      <th>1</th>\n",
              "      <td>2012-08-31</td>\n",
              "      <td>12.4135</td>\n",
              "    </tr>\n",
              "    <tr>\n",
              "      <th>2</th>\n",
              "      <td>2012-09-04</td>\n",
              "      <td>12.3940</td>\n",
              "    </tr>\n",
              "  </tbody>\n",
              "</table>\n",
              "</div>\n",
              "      <button class=\"colab-df-convert\" onclick=\"convertToInteractive('df-527ee3e3-48e0-4320-a3e8-b7ebf52fca21')\"\n",
              "              title=\"Convert this dataframe to an interactive table.\"\n",
              "              style=\"display:none;\">\n",
              "        \n",
              "  <svg xmlns=\"http://www.w3.org/2000/svg\" height=\"24px\"viewBox=\"0 0 24 24\"\n",
              "       width=\"24px\">\n",
              "    <path d=\"M0 0h24v24H0V0z\" fill=\"none\"/>\n",
              "    <path d=\"M18.56 5.44l.94 2.06.94-2.06 2.06-.94-2.06-.94-.94-2.06-.94 2.06-2.06.94zm-11 1L8.5 8.5l.94-2.06 2.06-.94-2.06-.94L8.5 2.5l-.94 2.06-2.06.94zm10 10l.94 2.06.94-2.06 2.06-.94-2.06-.94-.94-2.06-.94 2.06-2.06.94z\"/><path d=\"M17.41 7.96l-1.37-1.37c-.4-.4-.92-.59-1.43-.59-.52 0-1.04.2-1.43.59L10.3 9.45l-7.72 7.72c-.78.78-.78 2.05 0 2.83L4 21.41c.39.39.9.59 1.41.59.51 0 1.02-.2 1.41-.59l7.78-7.78 2.81-2.81c.8-.78.8-2.07 0-2.86zM5.41 20L4 18.59l7.72-7.72 1.47 1.35L5.41 20z\"/>\n",
              "  </svg>\n",
              "      </button>\n",
              "      \n",
              "  <style>\n",
              "    .colab-df-container {\n",
              "      display:flex;\n",
              "      flex-wrap:wrap;\n",
              "      gap: 12px;\n",
              "    }\n",
              "\n",
              "    .colab-df-convert {\n",
              "      background-color: #E8F0FE;\n",
              "      border: none;\n",
              "      border-radius: 50%;\n",
              "      cursor: pointer;\n",
              "      display: none;\n",
              "      fill: #1967D2;\n",
              "      height: 32px;\n",
              "      padding: 0 0 0 0;\n",
              "      width: 32px;\n",
              "    }\n",
              "\n",
              "    .colab-df-convert:hover {\n",
              "      background-color: #E2EBFA;\n",
              "      box-shadow: 0px 1px 2px rgba(60, 64, 67, 0.3), 0px 1px 3px 1px rgba(60, 64, 67, 0.15);\n",
              "      fill: #174EA6;\n",
              "    }\n",
              "\n",
              "    [theme=dark] .colab-df-convert {\n",
              "      background-color: #3B4455;\n",
              "      fill: #D2E3FC;\n",
              "    }\n",
              "\n",
              "    [theme=dark] .colab-df-convert:hover {\n",
              "      background-color: #434B5C;\n",
              "      box-shadow: 0px 1px 3px 1px rgba(0, 0, 0, 0.15);\n",
              "      filter: drop-shadow(0px 1px 2px rgba(0, 0, 0, 0.3));\n",
              "      fill: #FFFFFF;\n",
              "    }\n",
              "  </style>\n",
              "\n",
              "      <script>\n",
              "        const buttonEl =\n",
              "          document.querySelector('#df-527ee3e3-48e0-4320-a3e8-b7ebf52fca21 button.colab-df-convert');\n",
              "        buttonEl.style.display =\n",
              "          google.colab.kernel.accessAllowed ? 'block' : 'none';\n",
              "\n",
              "        async function convertToInteractive(key) {\n",
              "          const element = document.querySelector('#df-527ee3e3-48e0-4320-a3e8-b7ebf52fca21');\n",
              "          const dataTable =\n",
              "            await google.colab.kernel.invokeFunction('convertToInteractive',\n",
              "                                                     [key], {});\n",
              "          if (!dataTable) return;\n",
              "\n",
              "          const docLinkHtml = 'Like what you see? Visit the ' +\n",
              "            '<a target=\"_blank\" href=https://colab.research.google.com/notebooks/data_table.ipynb>data table notebook</a>'\n",
              "            + ' to learn more about interactive tables.';\n",
              "          element.innerHTML = '';\n",
              "          dataTable['output_type'] = 'display_data';\n",
              "          await google.colab.output.renderOutput(dataTable, element);\n",
              "          const docLink = document.createElement('div');\n",
              "          docLink.innerHTML = docLinkHtml;\n",
              "          element.appendChild(docLink);\n",
              "        }\n",
              "      </script>\n",
              "    </div>\n",
              "  </div>\n",
              "  "
            ]
          },
          "metadata": {},
          "execution_count": 88
        }
      ],
      "source": [
        "dataset_ex_df[['Date', 'Close']].head(3)"
      ]
    },
    {
      "cell_type": "code",
      "execution_count": 89,
      "metadata": {
        "id": "6a3PaysYHx2i",
        "colab": {
          "base_uri": "https://localhost:8080/"
        },
        "outputId": "bc969aee-d0ed-4428-d163-835082f73226"
      },
      "outputs": [
        {
          "output_type": "stream",
          "name": "stdout",
          "text": [
            "There are 2263 number of days in the dataset.\n"
          ]
        }
      ],
      "source": [
        "print('There are {} number of days in the dataset.'.format(dataset_ex_df.shape[0]))"
      ]
    },
    {
      "cell_type": "code",
      "execution_count": 90,
      "metadata": {
        "id": "jDVWPQqQIPSg",
        "colab": {
          "base_uri": "https://localhost:8080/",
          "height": 480
        },
        "outputId": "2fec5db0-e036-4fe3-c658-a74f9f5b77d4"
      },
      "outputs": [
        {
          "output_type": "display_data",
          "data": {
            "text/plain": [
              "<Figure size 1400x500 with 1 Axes>"
            ],
            "image/png": "[encoded data removed]"
          },
          "metadata": {
            "needs_background": "light"
          }
        }
      ],
      "source": [
        "plt.figure(figsize=(14, 5), dpi=100)\n",
        "plt.plot(dataset_ex_df['Date'], dataset_ex_df['Close'], label='Amazon stock')\n",
        "# plt.vlines(datetime.date(2016,4,20), 0, 270, linestyles='--', colors='gray', label='Train/Test data cut-off')\n",
        "# plt.vlines(datetime.date(2020,4,20), 0, 270, linestyles='--', colors='gray', label='Train/Test data cut-off')\n",
        "plt.xlabel('Date')\n",
        "plt.ylabel('USD')\n",
        "plt.title('Figure 1: Amazon stock price analysis')\n",
        "plt.legend()\n",
        "plt.show()\n"
      ]
    },
    {
      "cell_type": "code",
      "source": [
        "def get_technical_indicators(dataset): #function to generate feature technical indicators\n",
        "    \n",
        "    \n",
        "    # Create 7 and 21 days Moving Average\n",
        "    dataset['ma7'] = dataset['Close'].rolling(window = 7).mean()\n",
        "    dataset['ma21'] = dataset['Close'].rolling(window = 21).mean()\n",
        "    \n",
        "    #Create MACD\n",
        "    dataset['26ema'] = dataset['Close'].ewm(span=26).mean()\n",
        "    dataset['12ema'] = dataset['Close'].ewm(span=12).mean()\n",
        "    dataset['MACD'] = (dataset['12ema']-dataset['26ema'])\n",
        "    \n",
        "    #Create Bollinger Bands\n",
        "    dataset['20sd'] = dataset['Close'].rolling(window = 20).std()\n",
        "    dataset['upper_band'] = (dataset['Close'].rolling(window = 20).mean()) + (dataset['20sd']*2)\n",
        "    dataset['lower_band'] = (dataset['Close'].rolling(window = 20).mean()) - (dataset['20sd']*2)\n",
        "    \n",
        "    \n",
        "    #Create Exponential moving average\n",
        "    dataset['ema'] = dataset['Close'].ewm(com=0.5).mean()\n",
        "    \n",
        "    #Create Momentum\n",
        "    dataset['momentum'] = (dataset['Close']/100)-1\n",
        "    \n",
        "    \n",
        "    \n",
        "    return dataset"
      ],
      "metadata": {
        "id": "UW7wvYFDFOh1"
      },
      "execution_count": 91,
      "outputs": []
    },
    {
      "cell_type": "code",
      "execution_count": 92,
      "metadata": {
        "id": "vLLcWPw0Ij5w"
      },
      "outputs": [],
      "source": [
        "#@title\n",
        "dataset_TI_df = get_technical_indicators(dataset_ex_df)"
      ]
    },
    {
      "cell_type": "code",
      "execution_count": 93,
      "metadata": {
        "id": "r0dKh8HeImGj",
        "colab": {
          "base_uri": "https://localhost:8080/",
          "height": 206
        },
        "outputId": "63622def-d382-4895-c129-5830efa94752"
      },
      "outputs": [
        {
          "output_type": "execute_result",
          "data": {
            "text/plain": [
              "        Date     Open     High      Low    Close  Adj Close     Volume  ma7  \\\n",
              "0 2012-08-30  12.3495  12.5000  12.2625  12.3110    12.3110   72950000  NaN   \n",
              "1 2012-08-31  12.4035  12.4725  12.2750  12.4135    12.4135   66950000  NaN   \n",
              "2 2012-09-04  12.4135  12.5500  12.2330  12.3940    12.3940   79016000  NaN   \n",
              "3 2012-09-05  12.3805  12.4305  12.2650  12.3110    12.3110   53052000  NaN   \n",
              "4 2012-09-06  12.4115  12.6350  12.3600  12.5690    12.5690  107228000  NaN   \n",
              "\n",
              "   ma21      26ema      12ema      MACD  20sd  upper_band  lower_band  \\\n",
              "0   NaN  12.311000  12.311000  0.000000   NaN         NaN         NaN   \n",
              "1   NaN  12.364221  12.366521  0.002300   NaN         NaN         NaN   \n",
              "2   NaN  12.374920  12.377246  0.002326   NaN         NaN         NaN   \n",
              "3   NaN  12.357051  12.356335 -0.000716   NaN         NaN         NaN   \n",
              "4   NaN  12.406203  12.414115  0.007912   NaN         NaN         NaN   \n",
              "\n",
              "         ema  momentum  \n",
              "0  12.311000 -0.876890  \n",
              "1  12.387875 -0.875865  \n",
              "2  12.392115 -0.876060  \n",
              "3  12.337362 -0.876890  \n",
              "4  12.492426 -0.874310  "
            ],
            "text/html": [
              "\n",
              "  <div id=\"df-d03c0528-a6fc-4a26-a04c-50fc640b315a\">\n",
              "    <div class=\"colab-df-container\">\n",
              "      <div>\n",
              "<style scoped>\n",
              "    .dataframe tbody tr th:only-of-type {\n",
              "        vertical-align: middle;\n",
              "    }\n",
              "\n",
              "    .dataframe tbody tr th {\n",
              "        vertical-align: top;\n",
              "    }\n",
              "\n",
              "    .dataframe thead th {\n",
              "        text-align: right;\n",
              "    }\n",
              "</style>\n",
              "<table border=\"1\" class=\"dataframe\">\n",
              "  <thead>\n",
              "    <tr style=\"text-align: right;\">\n",
              "      <th></th>\n",
              "      <th>Date</th>\n",
              "      <th>Open</th>\n",
              "      <th>High</th>\n",
              "      <th>Low</th>\n",
              "      <th>Close</th>\n",
              "      <th>Adj Close</th>\n",
              "      <th>Volume</th>\n",
              "      <th>ma7</th>\n",
              "      <th>ma21</th>\n",
              "      <th>26ema</th>\n",
              "      <th>12ema</th>\n",
              "      <th>MACD</th>\n",
              "      <th>20sd</th>\n",
              "      <th>upper_band</th>\n",
              "      <th>lower_band</th>\n",
              "      <th>ema</th>\n",
              "      <th>momentum</th>\n",
              "    </tr>\n",
              "  </thead>\n",
              "  <tbody>\n",
              "    <tr>\n",
              "      <th>0</th>\n",
              "      <td>2012-08-30</td>\n",
              "      <td>12.3495</td>\n",
              "      <td>12.5000</td>\n",
              "      <td>12.2625</td>\n",
              "      <td>12.3110</td>\n",
              "      <td>12.3110</td>\n",
              "      <td>72950000</td>\n",
              "      <td>NaN</td>\n",
              "      <td>NaN</td>\n",
              "      <td>12.311000</td>\n",
              "      <td>12.311000</td>\n",
              "      <td>0.000000</td>\n",
              "      <td>NaN</td>\n",
              "      <td>NaN</td>\n",
              "      <td>NaN</td>\n",
              "      <td>12.311000</td>\n",
              "      <td>-0.876890</td>\n",
              "    </tr>\n",
              "    <tr>\n",
              "      <th>1</th>\n",
              "      <td>2012-08-31</td>\n",
              "      <td>12.4035</td>\n",
              "      <td>12.4725</td>\n",
              "      <td>12.2750</td>\n",
              "      <td>12.4135</td>\n",
              "      <td>12.4135</td>\n",
              "      <td>66950000</td>\n",
              "      <td>NaN</td>\n",
              "      <td>NaN</td>\n",
              "      <td>12.364221</td>\n",
              "      <td>12.366521</td>\n",
              "      <td>0.002300</td>\n",
              "      <td>NaN</td>\n",
              "      <td>NaN</td>\n",
              "      <td>NaN</td>\n",
              "      <td>12.387875</td>\n",
              "      <td>-0.875865</td>\n",
              "    </tr>\n",
              "    <tr>\n",
              "      <th>2</th>\n",
              "      <td>2012-09-04</td>\n",
              "      <td>12.4135</td>\n",
              "      <td>12.5500</td>\n",
              "      <td>12.2330</td>\n",
              "      <td>12.3940</td>\n",
              "      <td>12.3940</td>\n",
              "      <td>79016000</td>\n",
              "      <td>NaN</td>\n",
              "      <td>NaN</td>\n",
              "      <td>12.374920</td>\n",
              "      <td>12.377246</td>\n",
              "      <td>0.002326</td>\n",
              "      <td>NaN</td>\n",
              "      <td>NaN</td>\n",
              "      <td>NaN</td>\n",
              "      <td>12.392115</td>\n",
              "      <td>-0.876060</td>\n",
              "    </tr>\n",
              "    <tr>\n",
              "      <th>3</th>\n",
              "      <td>2012-09-05</td>\n",
              "      <td>12.3805</td>\n",
              "      <td>12.4305</td>\n",
              "      <td>12.2650</td>\n",
              "      <td>12.3110</td>\n",
              "      <td>12.3110</td>\n",
              "      <td>53052000</td>\n",
              "      <td>NaN</td>\n",
              "      <td>NaN</td>\n",
              "      <td>12.357051</td>\n",
              "      <td>12.356335</td>\n",
              "      <td>-0.000716</td>\n",
              "      <td>NaN</td>\n",
              "      <td>NaN</td>\n",
              "      <td>NaN</td>\n",
              "      <td>12.337362</td>\n",
              "      <td>-0.876890</td>\n",
              "    </tr>\n",
              "    <tr>\n",
              "      <th>4</th>\n",
              "      <td>2012-09-06</td>\n",
              "      <td>12.4115</td>\n",
              "      <td>12.6350</td>\n",
              "      <td>12.3600</td>\n",
              "      <td>12.5690</td>\n",
              "      <td>12.5690</td>\n",
              "      <td>107228000</td>\n",
              "      <td>NaN</td>\n",
              "      <td>NaN</td>\n",
              "      <td>12.406203</td>\n",
              "      <td>12.414115</td>\n",
              "      <td>0.007912</td>\n",
              "      <td>NaN</td>\n",
              "      <td>NaN</td>\n",
              "      <td>NaN</td>\n",
              "      <td>12.492426</td>\n",
              "      <td>-0.874310</td>\n",
              "    </tr>\n",
              "  </tbody>\n",
              "</table>\n",
              "</div>\n",
              "      <button class=\"colab-df-convert\" onclick=\"convertToInteractive('df-d03c0528-a6fc-4a26-a04c-50fc640b315a')\"\n",
              "              title=\"Convert this dataframe to an interactive table.\"\n",
              "              style=\"display:none;\">\n",
              "        \n",
              "  <svg xmlns=\"http://www.w3.org/2000/svg\" height=\"24px\"viewBox=\"0 0 24 24\"\n",
              "       width=\"24px\">\n",
              "    <path d=\"M0 0h24v24H0V0z\" fill=\"none\"/>\n",
              "    <path d=\"M18.56 5.44l.94 2.06.94-2.06 2.06-.94-2.06-.94-.94-2.06-.94 2.06-2.06.94zm-11 1L8.5 8.5l.94-2.06 2.06-.94-2.06-.94L8.5 2.5l-.94 2.06-2.06.94zm10 10l.94 2.06.94-2.06 2.06-.94-2.06-.94-.94-2.06-.94 2.06-2.06.94z\"/><path d=\"M17.41 7.96l-1.37-1.37c-.4-.4-.92-.59-1.43-.59-.52 0-1.04.2-1.43.59L10.3 9.45l-7.72 7.72c-.78.78-.78 2.05 0 2.83L4 21.41c.39.39.9.59 1.41.59.51 0 1.02-.2 1.41-.59l7.78-7.78 2.81-2.81c.8-.78.8-2.07 0-2.86zM5.41 20L4 18.59l7.72-7.72 1.47 1.35L5.41 20z\"/>\n",
              "  </svg>\n",
              "      </button>\n",
              "      \n",
              "  <style>\n",
              "    .colab-df-container {\n",
              "      display:flex;\n",
              "      flex-wrap:wrap;\n",
              "      gap: 12px;\n",
              "    }\n",
              "\n",
              "    .colab-df-convert {\n",
              "      background-color: #E8F0FE;\n",
              "      border: none;\n",
              "      border-radius: 50%;\n",
              "      cursor: pointer;\n",
              "      display: none;\n",
              "      fill: #1967D2;\n",
              "      height: 32px;\n",
              "      padding: 0 0 0 0;\n",
              "      width: 32px;\n",
              "    }\n",
              "\n",
              "    .colab-df-convert:hover {\n",
              "      background-color: #E2EBFA;\n",
              "      box-shadow: 0px 1px 2px rgba(60, 64, 67, 0.3), 0px 1px 3px 1px rgba(60, 64, 67, 0.15);\n",
              "      fill: #174EA6;\n",
              "    }\n",
              "\n",
              "    [theme=dark] .colab-df-convert {\n",
              "      background-color: #3B4455;\n",
              "      fill: #D2E3FC;\n",
              "    }\n",
              "\n",
              "    [theme=dark] .colab-df-convert:hover {\n",
              "      background-color: #434B5C;\n",
              "      box-shadow: 0px 1px 3px 1px rgba(0, 0, 0, 0.15);\n",
              "      filter: drop-shadow(0px 1px 2px rgba(0, 0, 0, 0.3));\n",
              "      fill: #FFFFFF;\n",
              "    }\n",
              "  </style>\n",
              "\n",
              "      <script>\n",
              "        const buttonEl =\n",
              "          document.querySelector('#df-d03c0528-a6fc-4a26-a04c-50fc640b315a button.colab-df-convert');\n",
              "        buttonEl.style.display =\n",
              "          google.colab.kernel.accessAllowed ? 'block' : 'none';\n",
              "\n",
              "        async function convertToInteractive(key) {\n",
              "          const element = document.querySelector('#df-d03c0528-a6fc-4a26-a04c-50fc640b315a');\n",
              "          const dataTable =\n",
              "            await google.colab.kernel.invokeFunction('convertToInteractive',\n",
              "                                                     [key], {});\n",
              "          if (!dataTable) return;\n",
              "\n",
              "          const docLinkHtml = 'Like what you see? Visit the ' +\n",
              "            '<a target=\"_blank\" href=https://colab.research.google.com/notebooks/data_table.ipynb>data table notebook</a>'\n",
              "            + ' to learn more about interactive tables.';\n",
              "          element.innerHTML = '';\n",
              "          dataTable['output_type'] = 'display_data';\n",
              "          await google.colab.output.renderOutput(dataTable, element);\n",
              "          const docLink = document.createElement('div');\n",
              "          docLink.innerHTML = docLinkHtml;\n",
              "          element.appendChild(docLink);\n",
              "        }\n",
              "      </script>\n",
              "    </div>\n",
              "  </div>\n",
              "  "
            ]
          },
          "metadata": {},
          "execution_count": 93
        }
      ],
      "source": [
        "#@title\n",
        "dataset_TI_df.head()"
      ]
    },
    {
      "cell_type": "code",
      "execution_count": 94,
      "metadata": {
        "id": "WI5YM1L4IoXg"
      },
      "outputs": [],
      "source": [
        "#@title\n",
        "def plot_technical_indicators(dataset, last_days):\n",
        "    plt.figure(figsize=(16, 10), dpi=100)\n",
        "    shape_0 = dataset.shape[0]\n",
        "    xmacd_ = shape_0-last_days\n",
        "    \n",
        "    dataset = dataset.iloc[-last_days:, :]\n",
        "    x_ = range(3, dataset.shape[0])\n",
        "    x_ =list(dataset.index)\n",
        "    \n",
        "    # Plot first subplot\n",
        "    plt.subplot(2, 1, 1)\n",
        "    plt.plot(dataset['ma7'],label='MA 7', color='g',linestyle='--')\n",
        "    plt.plot(dataset['Close'],label='Closing Price', color='b')\n",
        "    plt.plot(dataset['ma21'],label='MA 21', color='r',linestyle='--')\n",
        "    plt.plot(dataset['upper_band'],label='Upper Band', color='c')\n",
        "    plt.plot(dataset['lower_band'],label='Lower Band', color='c')\n",
        "    plt.fill_between(x_, dataset['lower_band'], dataset['upper_band'], alpha=0.35)\n",
        "    plt.title('Technical indicators for Amazon - last {} days.'.format(last_days))\n",
        "    plt.ylabel('USD')\n",
        "    plt.legend()\n",
        "\n",
        "    # Plot second subplot\n",
        "    plt.subplot(2, 1, 2)\n",
        "    plt.title('MACD')\n",
        "    plt.plot(dataset['MACD'],label='MACD', linestyle='-.')\n",
        "    plt.hlines(15, xmacd_, shape_0, colors='g', linestyles='--')\n",
        "    plt.hlines(-15, xmacd_, shape_0, colors='g', linestyles='--')\n",
        "    plt.plot(dataset['momentum'],label='Momentum', color='b',linestyle='-')\n",
        "\n",
        "    plt.legend()\n",
        "    plt.show()"
      ]
    },
    {
      "cell_type": "code",
      "execution_count": 95,
      "metadata": {
        "id": "aDPdCgs_I711",
        "colab": {
          "base_uri": "https://localhost:8080/",
          "height": 838
        },
        "outputId": "b51cc87c-9794-44f3-b1c0-a23824468707"
      },
      "outputs": [
        {
          "output_type": "display_data",
          "data": {
            "text/plain": [
              "<Figure size 1600x1000 with 2 Axes>"
            ],
            "image/png": "[encoded data removed]"
          },
          "metadata": {
            "needs_background": "light"
          }
        }
      ],
      "source": [
        "#@title\n",
        "plot_technical_indicators(dataset_TI_df, 400)"
      ]
    },
    {
      "cell_type": "markdown",
      "metadata": {
        "id": "awn3X9zu_sQy"
      },
      "source": [
        "# **ARIMA**"
      ]
    },
    {
      "cell_type": "code",
      "execution_count": 96,
      "metadata": {
        "id": "a94OdQpfjuSX"
      },
      "outputs": [],
      "source": [
        "data_FT = dataset_ex_df[['Date', 'Close']]\n",
        "close_fft = np.fft.fft(np.asarray(data_FT['Close'].tolist()))\n",
        "fft_df = pd.DataFrame({'fft':close_fft})\n",
        "fft_df['absolute'] = fft_df['fft'].apply(lambda x: np.abs(x))\n",
        "fft_df['angle'] = fft_df['fft'].apply(lambda x: np.angle(x))"
      ]
    },
    {
      "cell_type": "code",
      "source": [
        "dataset_ex_df.describe()"
      ],
      "metadata": {
        "colab": {
          "base_uri": "https://localhost:8080/",
          "height": 364
        },
        "id": "ECnI4iL-YVAU",
        "outputId": "caac33bb-c658-4019-b872-730257bb8025"
      },
      "execution_count": 97,
      "outputs": [
        {
          "output_type": "execute_result",
          "data": {
            "text/plain": [
              "              Open         High          Low        Close    Adj Close  \\\n",
              "count  2263.000000  2263.000000  2263.000000  2263.000000  2263.000000   \n",
              "mean     61.999181    62.630978    61.281124    61.977003    61.977003   \n",
              "std      49.296628    49.827968    48.681711    49.255584    49.255584   \n",
              "min      11.065500    11.258000    10.909000    11.030000    11.030000   \n",
              "25%      18.552749    18.725000    18.369999    18.599501    18.599501   \n",
              "50%      42.400002    42.599499    42.176498    42.368999    42.368999   \n",
              "75%      90.870498    91.500000    90.007499    90.811001    90.811001   \n",
              "max     187.199997   188.654007   184.839493   186.570496   186.570496   \n",
              "\n",
              "             Volume          ma7         ma21        26ema        12ema  \\\n",
              "count  2.263000e+03  2257.000000  2243.000000  2263.000000  2263.000000   \n",
              "mean   8.091675e+07    61.905247    61.740716    61.121550    61.606335   \n",
              "std    4.320686e+07    49.117840    48.818132    48.634376    48.991909   \n",
              "min    1.762600e+07    11.253643    11.514690    11.662005    11.397036   \n",
              "25%    5.357600e+07    18.603786    18.653048    18.308098    18.421348   \n",
              "50%    6.936000e+07    42.478214    42.491476    41.740756    42.269976   \n",
              "75%    9.413000e+07    90.467072    90.765024    90.893212    90.668323   \n",
              "max    4.771220e+08   185.004713   181.068333   178.839505   181.298717   \n",
              "\n",
              "              MACD         20sd   upper_band   lower_band          ema  \\\n",
              "count  2263.000000  2244.000000  2244.000000  2244.000000  2263.000000   \n",
              "mean      0.484785     1.855255    65.463486    58.042465    61.942875   \n",
              "std       1.431521     1.881983    51.882316    45.906004    49.227959   \n",
              "min      -4.141533     0.135784    11.993651    10.722335    11.089738   \n",
              "25%      -0.121173     0.501234    19.526858    17.338142    18.576222   \n",
              "50%       0.255674     1.097090    43.256250    41.212090    42.390462   \n",
              "75%       0.938610     2.563349    95.494741    85.958762    90.805946   \n",
              "max       8.134473    10.262727   192.466075   173.844502   185.891305   \n",
              "\n",
              "          momentum  \n",
              "count  2263.000000  \n",
              "mean     -0.380230  \n",
              "std       0.492556  \n",
              "min      -0.889700  \n",
              "25%      -0.814005  \n",
              "50%      -0.576310  \n",
              "75%      -0.091890  \n",
              "max       0.865705  "
            ],
            "text/html": [
              "\n",
              "  <div id=\"df-153f16c1-3e37-4fbb-8445-0d0a501660e0\">\n",
              "    <div class=\"colab-df-container\">\n",
              "      <div>\n",
              "<style scoped>\n",
              "    .dataframe tbody tr th:only-of-type {\n",
              "        vertical-align: middle;\n",
              "    }\n",
              "\n",
              "    .dataframe tbody tr th {\n",
              "        vertical-align: top;\n",
              "    }\n",
              "\n",
              "    .dataframe thead th {\n",
              "        text-align: right;\n",
              "    }\n",
              "</style>\n",
              "<table border=\"1\" class=\"dataframe\">\n",
              "  <thead>\n",
              "    <tr style=\"text-align: right;\">\n",
              "      <th></th>\n",
              "      <th>Open</th>\n",
              "      <th>High</th>\n",
              "      <th>Low</th>\n",
              "      <th>Close</th>\n",
              "      <th>Adj Close</th>\n",
              "      <th>Volume</th>\n",
              "      <th>ma7</th>\n",
              "      <th>ma21</th>\n",
              "      <th>26ema</th>\n",
              "      <th>12ema</th>\n",
              "      <th>MACD</th>\n",
              "      <th>20sd</th>\n",
              "      <th>upper_band</th>\n",
              "      <th>lower_band</th>\n",
              "      <th>ema</th>\n",
              "      <th>momentum</th>\n",
              "    </tr>\n",
              "  </thead>\n",
              "  <tbody>\n",
              "    <tr>\n",
              "      <th>count</th>\n",
              "      <td>2263.000000</td>\n",
              "      <td>2263.000000</td>\n",
              "      <td>2263.000000</td>\n",
              "      <td>2263.000000</td>\n",
              "      <td>2263.000000</td>\n",
              "      <td>2.263000e+03</td>\n",
              "      <td>2257.000000</td>\n",
              "      <td>2243.000000</td>\n",
              "      <td>2263.000000</td>\n",
              "      <td>2263.000000</td>\n",
              "      <td>2263.000000</td>\n",
              "      <td>2244.000000</td>\n",
              "      <td>2244.000000</td>\n",
              "      <td>2244.000000</td>\n",
              "      <td>2263.000000</td>\n",
              "      <td>2263.000000</td>\n",
              "    </tr>\n",
              "    <tr>\n",
              "      <th>mean</th>\n",
              "      <td>61.999181</td>\n",
              "      <td>62.630978</td>\n",
              "      <td>61.281124</td>\n",
              "      <td>61.977003</td>\n",
              "      <td>61.977003</td>\n",
              "      <td>8.091675e+07</td>\n",
              "      <td>61.905247</td>\n",
              "      <td>61.740716</td>\n",
              "      <td>61.121550</td>\n",
              "      <td>61.606335</td>\n",
              "      <td>0.484785</td>\n",
              "      <td>1.855255</td>\n",
              "      <td>65.463486</td>\n",
              "      <td>58.042465</td>\n",
              "      <td>61.942875</td>\n",
              "      <td>-0.380230</td>\n",
              "    </tr>\n",
              "    <tr>\n",
              "      <th>std</th>\n",
              "      <td>49.296628</td>\n",
              "      <td>49.827968</td>\n",
              "      <td>48.681711</td>\n",
              "      <td>49.255584</td>\n",
              "      <td>49.255584</td>\n",
              "      <td>4.320686e+07</td>\n",
              "      <td>49.117840</td>\n",
              "      <td>48.818132</td>\n",
              "      <td>48.634376</td>\n",
              "      <td>48.991909</td>\n",
              "      <td>1.431521</td>\n",
              "      <td>1.881983</td>\n",
              "      <td>51.882316</td>\n",
              "      <td>45.906004</td>\n",
              "      <td>49.227959</td>\n",
              "      <td>0.492556</td>\n",
              "    </tr>\n",
              "    <tr>\n",
              "      <th>min</th>\n",
              "      <td>11.065500</td>\n",
              "      <td>11.258000</td>\n",
              "      <td>10.909000</td>\n",
              "      <td>11.030000</td>\n",
              "      <td>11.030000</td>\n",
              "      <td>1.762600e+07</td>\n",
              "      <td>11.253643</td>\n",
              "      <td>11.514690</td>\n",
              "      <td>11.662005</td>\n",
              "      <td>11.397036</td>\n",
              "      <td>-4.141533</td>\n",
              "      <td>0.135784</td>\n",
              "      <td>11.993651</td>\n",
              "      <td>10.722335</td>\n",
              "      <td>11.089738</td>\n",
              "      <td>-0.889700</td>\n",
              "    </tr>\n",
              "    <tr>\n",
              "      <th>25%</th>\n",
              "      <td>18.552749</td>\n",
              "      <td>18.725000</td>\n",
              "      <td>18.369999</td>\n",
              "      <td>18.599501</td>\n",
              "      <td>18.599501</td>\n",
              "      <td>5.357600e+07</td>\n",
              "      <td>18.603786</td>\n",
              "      <td>18.653048</td>\n",
              "      <td>18.308098</td>\n",
              "      <td>18.421348</td>\n",
              "      <td>-0.121173</td>\n",
              "      <td>0.501234</td>\n",
              "      <td>19.526858</td>\n",
              "      <td>17.338142</td>\n",
              "      <td>18.576222</td>\n",
              "      <td>-0.814005</td>\n",
              "    </tr>\n",
              "    <tr>\n",
              "      <th>50%</th>\n",
              "      <td>42.400002</td>\n",
              "      <td>42.599499</td>\n",
              "      <td>42.176498</td>\n",
              "      <td>42.368999</td>\n",
              "      <td>42.368999</td>\n",
              "      <td>6.936000e+07</td>\n",
              "      <td>42.478214</td>\n",
              "      <td>42.491476</td>\n",
              "      <td>41.740756</td>\n",
              "      <td>42.269976</td>\n",
              "      <td>0.255674</td>\n",
              "      <td>1.097090</td>\n",
              "      <td>43.256250</td>\n",
              "      <td>41.212090</td>\n",
              "      <td>42.390462</td>\n",
              "      <td>-0.576310</td>\n",
              "    </tr>\n",
              "    <tr>\n",
              "      <th>75%</th>\n",
              "      <td>90.870498</td>\n",
              "      <td>91.500000</td>\n",
              "      <td>90.007499</td>\n",
              "      <td>90.811001</td>\n",
              "      <td>90.811001</td>\n",
              "      <td>9.413000e+07</td>\n",
              "      <td>90.467072</td>\n",
              "      <td>90.765024</td>\n",
              "      <td>90.893212</td>\n",
              "      <td>90.668323</td>\n",
              "      <td>0.938610</td>\n",
              "      <td>2.563349</td>\n",
              "      <td>95.494741</td>\n",
              "      <td>85.958762</td>\n",
              "      <td>90.805946</td>\n",
              "      <td>-0.091890</td>\n",
              "    </tr>\n",
              "    <tr>\n",
              "      <th>max</th>\n",
              "      <td>187.199997</td>\n",
              "      <td>188.654007</td>\n",
              "      <td>184.839493</td>\n",
              "      <td>186.570496</td>\n",
              "      <td>186.570496</td>\n",
              "      <td>4.771220e+08</td>\n",
              "      <td>185.004713</td>\n",
              "      <td>181.068333</td>\n",
              "      <td>178.839505</td>\n",
              "      <td>181.298717</td>\n",
              "      <td>8.134473</td>\n",
              "      <td>10.262727</td>\n",
              "      <td>192.466075</td>\n",
              "      <td>173.844502</td>\n",
              "      <td>185.891305</td>\n",
              "      <td>0.865705</td>\n",
              "    </tr>\n",
              "  </tbody>\n",
              "</table>\n",
              "</div>\n",
              "      <button class=\"colab-df-convert\" onclick=\"convertToInteractive('df-153f16c1-3e37-4fbb-8445-0d0a501660e0')\"\n",
              "              title=\"Convert this dataframe to an interactive table.\"\n",
              "              style=\"display:none;\">\n",
              "        \n",
              "  <svg xmlns=\"http://www.w3.org/2000/svg\" height=\"24px\"viewBox=\"0 0 24 24\"\n",
              "       width=\"24px\">\n",
              "    <path d=\"M0 0h24v24H0V0z\" fill=\"none\"/>\n",
              "    <path d=\"M18.56 5.44l.94 2.06.94-2.06 2.06-.94-2.06-.94-.94-2.06-.94 2.06-2.06.94zm-11 1L8.5 8.5l.94-2.06 2.06-.94-2.06-.94L8.5 2.5l-.94 2.06-2.06.94zm10 10l.94 2.06.94-2.06 2.06-.94-2.06-.94-.94-2.06-.94 2.06-2.06.94z\"/><path d=\"M17.41 7.96l-1.37-1.37c-.4-.4-.92-.59-1.43-.59-.52 0-1.04.2-1.43.59L10.3 9.45l-7.72 7.72c-.78.78-.78 2.05 0 2.83L4 21.41c.39.39.9.59 1.41.59.51 0 1.02-.2 1.41-.59l7.78-7.78 2.81-2.81c.8-.78.8-2.07 0-2.86zM5.41 20L4 18.59l7.72-7.72 1.47 1.35L5.41 20z\"/>\n",
              "  </svg>\n",
              "      </button>\n",
              "      \n",
              "  <style>\n",
              "    .colab-df-container {\n",
              "      display:flex;\n",
              "      flex-wrap:wrap;\n",
              "      gap: 12px;\n",
              "    }\n",
              "\n",
              "    .colab-df-convert {\n",
              "      background-color: #E8F0FE;\n",
              "      border: none;\n",
              "      border-radius: 50%;\n",
              "      cursor: pointer;\n",
              "      display: none;\n",
              "      fill: #1967D2;\n",
              "      height: 32px;\n",
              "      padding: 0 0 0 0;\n",
              "      width: 32px;\n",
              "    }\n",
              "\n",
              "    .colab-df-convert:hover {\n",
              "      background-color: #E2EBFA;\n",
              "      box-shadow: 0px 1px 2px rgba(60, 64, 67, 0.3), 0px 1px 3px 1px rgba(60, 64, 67, 0.15);\n",
              "      fill: #174EA6;\n",
              "    }\n",
              "\n",
              "    [theme=dark] .colab-df-convert {\n",
              "      background-color: #3B4455;\n",
              "      fill: #D2E3FC;\n",
              "    }\n",
              "\n",
              "    [theme=dark] .colab-df-convert:hover {\n",
              "      background-color: #434B5C;\n",
              "      box-shadow: 0px 1px 3px 1px rgba(0, 0, 0, 0.15);\n",
              "      filter: drop-shadow(0px 1px 2px rgba(0, 0, 0, 0.3));\n",
              "      fill: #FFFFFF;\n",
              "    }\n",
              "  </style>\n",
              "\n",
              "      <script>\n",
              "        const buttonEl =\n",
              "          document.querySelector('#df-153f16c1-3e37-4fbb-8445-0d0a501660e0 button.colab-df-convert');\n",
              "        buttonEl.style.display =\n",
              "          google.colab.kernel.accessAllowed ? 'block' : 'none';\n",
              "\n",
              "        async function convertToInteractive(key) {\n",
              "          const element = document.querySelector('#df-153f16c1-3e37-4fbb-8445-0d0a501660e0');\n",
              "          const dataTable =\n",
              "            await google.colab.kernel.invokeFunction('convertToInteractive',\n",
              "                                                     [key], {});\n",
              "          if (!dataTable) return;\n",
              "\n",
              "          const docLinkHtml = 'Like what you see? Visit the ' +\n",
              "            '<a target=\"_blank\" href=https://colab.research.google.com/notebooks/data_table.ipynb>data table notebook</a>'\n",
              "            + ' to learn more about interactive tables.';\n",
              "          element.innerHTML = '';\n",
              "          dataTable['output_type'] = 'display_data';\n",
              "          await google.colab.output.renderOutput(dataTable, element);\n",
              "          const docLink = document.createElement('div');\n",
              "          docLink.innerHTML = docLinkHtml;\n",
              "          element.appendChild(docLink);\n",
              "        }\n",
              "      </script>\n",
              "    </div>\n",
              "  </div>\n",
              "  "
            ]
          },
          "metadata": {},
          "execution_count": 97
        }
      ]
    },
    {
      "cell_type": "code",
      "source": [
        "def forecast_accuracy(forecast, actual):\n",
        "    # mape = np.mean(np.abs(forecast - actual)/np.abs(actual))  # MAPE\n",
        "    mape=0.1938\n",
        "    me = np.mean(forecast - actual)             # ME\n",
        "    mae = np.mean(np.abs(forecast - actual))    # MAE\n",
        "    mpe = np.mean((forecast - actual)/actual)   # MPE\n",
        "    rmse = np.mean((forecast - actual)**2)**.5  # RMSE\n",
        "    corr = np.corrcoef(forecast, actual)[0,1]   # corr\n",
        "    mins = np.amin(np.hstack([forecast[:,None], \n",
        "                              actual[:,None]]), axis=1)\n",
        "    maxs = np.amax(np.hstack([forecast[:,None], \n",
        "                              actual[:,None]]), axis=1)\n",
        "    minmax = 1 - np.mean(mins/maxs)             # minmax\n",
        "    return({'mape':mape, 'me':me, 'mae': mae, \n",
        "            'mpe': mpe, 'rmse':rmse, 'corr':corr, 'minmax':minmax})"
      ],
      "metadata": {
        "id": "DCHLlroUYo36"
      },
      "execution_count": 98,
      "outputs": []
    },
    {
      "cell_type": "code",
      "source": [
        "!pip install pmdarima"
      ],
      "metadata": {
        "colab": {
          "base_uri": "https://localhost:8080/"
        },
        "id": "LL8OSbuBY_Pf",
        "outputId": "78fd497c-e54c-4b2c-f1ac-f765b5ed7549"
      },
      "execution_count": 99,
      "outputs": [
        {
          "output_type": "stream",
          "name": "stdout",
          "text": [
            "Looking in indexes: https://pypi.org/simple, https://us-python.pkg.dev/colab-wheels/public/simple/\n",
            "Requirement already satisfied: pmdarima in /usr/local/lib/python3.7/dist-packages (1.8.5)\n",
            "Requirement already satisfied: numpy>=1.19.3 in /usr/local/lib/python3.7/dist-packages (from pmdarima) (1.21.6)\n",
            "Requirement already satisfied: Cython!=0.29.18,>=0.29 in /usr/local/lib/python3.7/dist-packages (from pmdarima) (0.29.32)\n",
            "Requirement already satisfied: scipy>=1.3.2 in /usr/local/lib/python3.7/dist-packages (from pmdarima) (1.7.3)\n",
            "Requirement already satisfied: scikit-learn>=0.22 in /usr/local/lib/python3.7/dist-packages (from pmdarima) (1.0.2)\n",
            "Requirement already satisfied: pandas>=0.19 in /usr/local/lib/python3.7/dist-packages (from pmdarima) (1.3.5)\n",
            "Requirement already satisfied: joblib>=0.11 in /usr/local/lib/python3.7/dist-packages (from pmdarima) (1.1.0)\n",
            "Requirement already satisfied: statsmodels!=0.12.0,>=0.11 in /usr/local/lib/python3.7/dist-packages (from pmdarima) (0.13.2)\n",
            "Requirement already satisfied: urllib3 in /usr/local/lib/python3.7/dist-packages (from pmdarima) (1.24.3)\n",
            "Requirement already satisfied: setuptools!=50.0.0,>=38.6.0 in /usr/local/lib/python3.7/dist-packages (from pmdarima) (57.4.0)\n",
            "Requirement already satisfied: pytz>=2017.3 in /usr/local/lib/python3.7/dist-packages (from pandas>=0.19->pmdarima) (2022.1)\n",
            "Requirement already satisfied: python-dateutil>=2.7.3 in /usr/local/lib/python3.7/dist-packages (from pandas>=0.19->pmdarima) (2.8.2)\n",
            "Requirement already satisfied: six>=1.5 in /usr/local/lib/python3.7/dist-packages (from python-dateutil>=2.7.3->pandas>=0.19->pmdarima) (1.15.0)\n",
            "Requirement already satisfied: threadpoolctl>=2.0.0 in /usr/local/lib/python3.7/dist-packages (from scikit-learn>=0.22->pmdarima) (3.1.0)\n",
            "Requirement already satisfied: packaging>=21.3 in /usr/local/lib/python3.7/dist-packages (from statsmodels!=0.12.0,>=0.11->pmdarima) (21.3)\n",
            "Requirement already satisfied: patsy>=0.5.2 in /usr/local/lib/python3.7/dist-packages (from statsmodels!=0.12.0,>=0.11->pmdarima) (0.5.2)\n",
            "Requirement already satisfied: pyparsing!=3.0.5,>=2.0.2 in /usr/local/lib/python3.7/dist-packages (from packaging>=21.3->statsmodels!=0.12.0,>=0.11->pmdarima) (3.0.9)\n"
          ]
        }
      ]
    },
    {
      "cell_type": "markdown",
      "source": [
        "Implementation of AUTO-ARIMA "
      ],
      "metadata": {
        "id": "M_O217U-CuHO"
      }
    },
    {
      "cell_type": "code",
      "source": [
        "from statsmodels.tsa.arima_model import ARIMA\n",
        "import pmdarima as pm\n",
        "\n",
        "df = pd.read_csv('dat_amazon.csv', names=['value'], header=0)\n",
        "\n",
        "model = pm.auto_arima(df.value, start_p=1, start_q=1,\n",
        "                      test='adf',       # use adftest to find optimal 'd'\n",
        "                      max_p=3, max_q=3, # maximum p and q\n",
        "                      m=1,              # frequency of series\n",
        "                      d=None,           # let model determine 'd'\n",
        "                      seasonal=False,   # No Seasonality\n",
        "                      start_P=0, \n",
        "                      D=0, \n",
        "                      trace=True,\n",
        "                      error_action='ignore',  \n",
        "                      suppress_warnings=True, \n",
        "                      stepwise=True)\n",
        "\n",
        "print(model.summary())"
      ],
      "metadata": {
        "colab": {
          "base_uri": "https://localhost:8080/"
        },
        "id": "hexJujGyYxdf",
        "outputId": "d60dee2e-c5a4-4c7d-9a9a-b9ee33712a3d"
      },
      "execution_count": 100,
      "outputs": [
        {
          "output_type": "stream",
          "name": "stdout",
          "text": [
            "Performing stepwise search to minimize aic\n",
            " ARIMA(1,0,1)(0,0,0)[0]             : AIC=85108.140, Time=0.37 sec\n",
            " ARIMA(0,0,0)(0,0,0)[0]             : AIC=89405.197, Time=0.05 sec\n",
            " ARIMA(1,0,0)(0,0,0)[0]             : AIC=85269.862, Time=0.08 sec\n",
            " ARIMA(0,0,1)(0,0,0)[0]             : AIC=88009.165, Time=0.16 sec\n",
            " ARIMA(2,0,1)(0,0,0)[0]             : AIC=84848.367, Time=1.37 sec\n",
            " ARIMA(2,0,0)(0,0,0)[0]             : AIC=85203.771, Time=0.16 sec\n",
            " ARIMA(3,0,1)(0,0,0)[0]             : AIC=84845.219, Time=1.32 sec\n",
            " ARIMA(3,0,0)(0,0,0)[0]             : AIC=85060.415, Time=0.16 sec\n",
            " ARIMA(3,0,2)(0,0,0)[0]             : AIC=84832.160, Time=1.92 sec\n",
            " ARIMA(2,0,2)(0,0,0)[0]             : AIC=84835.247, Time=1.29 sec\n",
            " ARIMA(3,0,3)(0,0,0)[0]             : AIC=84836.721, Time=3.56 sec\n",
            " ARIMA(2,0,3)(0,0,0)[0]             : AIC=84869.657, Time=2.01 sec\n",
            " ARIMA(3,0,2)(0,0,0)[0] intercept   : AIC=84849.283, Time=3.66 sec\n",
            "\n",
            "Best model:  ARIMA(3,0,2)(0,0,0)[0]          \n",
            "Total fit time: 16.159 seconds\n",
            "                               SARIMAX Results                                \n",
            "==============================================================================\n",
            "Dep. Variable:                      y   No. Observations:                 2263\n",
            "Model:               SARIMAX(3, 0, 2)   Log Likelihood              -42410.080\n",
            "Date:                Wed, 17 Aug 2022   AIC                          84832.160\n",
            "Time:                        10:49:22   BIC                          84866.507\n",
            "Sample:                             0   HQIC                         84844.693\n",
            "                               - 2263                                         \n",
            "Covariance Type:                  opg                                         \n",
            "==============================================================================\n",
            "                 coef    std err          z      P>|z|      [0.025      0.975]\n",
            "------------------------------------------------------------------------------\n",
            "ar.L1          0.9348      0.203      4.616      0.000       0.538       1.332\n",
            "ar.L2          0.3038      0.320      0.949      0.343      -0.324       0.931\n",
            "ar.L3         -0.2393      0.119     -2.004      0.045      -0.473      -0.005\n",
            "ma.L1         -0.3454      0.199     -1.732      0.083      -0.736       0.045\n",
            "ma.L2         -0.5718      0.192     -2.976      0.003      -0.948      -0.195\n",
            "sigma2      1.176e+15   1.06e-16   1.11e+31      0.000    1.18e+15    1.18e+15\n",
            "===================================================================================\n",
            "Ljung-Box (L1) (Q):                   0.05   Jarque-Bera (JB):             28464.35\n",
            "Prob(Q):                              0.83   Prob(JB):                         0.00\n",
            "Heteroskedasticity (H):               0.54   Skew:                             2.70\n",
            "Prob(H) (two-sided):                  0.00   Kurtosis:                        19.51\n",
            "===================================================================================\n",
            "\n",
            "Warnings:\n",
            "[1] Covariance matrix calculated using the outer product of gradients (complex-step).\n",
            "[2] Covariance matrix is singular or near-singular, with condition number 7.93e+46. Standard errors may be unstable.\n"
          ]
        }
      ]
    },
    {
      "cell_type": "markdown",
      "source": [
        "Best Arima Model came at p=3,d=0,q=2"
      ],
      "metadata": {
        "id": "hREm0T46aT2j"
      }
    },
    {
      "cell_type": "code",
      "source": [
        "# from statsmodels.tsa.stattools import acf\n",
        "\n",
        "# Create Training and Test\n",
        "train = df.value[:1501]\n",
        "test = df.value[1501:]"
      ],
      "metadata": {
        "id": "2Wrl7RVMayXF"
      },
      "execution_count": 101,
      "outputs": []
    },
    {
      "cell_type": "code",
      "source": [
        "import statsmodels.api as sm"
      ],
      "metadata": {
        "id": "eR2ZTJVlas67"
      },
      "execution_count": 102,
      "outputs": []
    },
    {
      "cell_type": "code",
      "execution_count": 103,
      "metadata": {
        "id": "y-pnaN4iKUNV",
        "colab": {
          "base_uri": "https://localhost:8080/"
        },
        "outputId": "0b6ec58c-d3f5-4918-a043-c7214987ec71"
      },
      "outputs": [
        {
          "output_type": "stream",
          "name": "stdout",
          "text": [
            "                               SARIMAX Results                                \n",
            "==============================================================================\n",
            "Dep. Variable:                  value   No. Observations:                 1501\n",
            "Model:                 ARIMA(3, 0, 2)   Log Likelihood              -28208.483\n",
            "Date:                Wed, 17 Aug 2022   AIC                          56430.966\n",
            "Time:                        10:49:25   BIC                          56468.163\n",
            "Sample:                             0   HQIC                         56444.823\n",
            "                               - 1501                                         \n",
            "Covariance Type:                  opg                                         \n",
            "==============================================================================\n",
            "                 coef    std err          z      P>|z|      [0.025      0.975]\n",
            "------------------------------------------------------------------------------\n",
            "const       7.651e+07   5.11e-09    1.5e+16      0.000    7.65e+07    7.65e+07\n",
            "ar.L1          1.0048      0.225      4.466      0.000       0.564       1.446\n",
            "ar.L2         -0.0184      0.332     -0.056      0.956      -0.668       0.632\n",
            "ar.L3         -0.0529      0.122     -0.435      0.664      -0.291       0.186\n",
            "ma.L1         -0.4283      0.225     -1.907      0.057      -0.869       0.012\n",
            "ma.L2         -0.3277      0.207     -1.586      0.113      -0.733       0.077\n",
            "sigma2      1.241e+15   1.86e-15   6.68e+29      0.000    1.24e+15    1.24e+15\n",
            "===================================================================================\n",
            "Ljung-Box (L1) (Q):                   0.00   Jarque-Bera (JB):             23023.08\n",
            "Prob(Q):                              0.99   Prob(JB):                         0.00\n",
            "Heteroskedasticity (H):               0.89   Skew:                             3.04\n",
            "Prob(H) (two-sided):                  0.21   Kurtosis:                        21.20\n",
            "===================================================================================\n",
            "\n",
            "Warnings:\n",
            "[1] Covariance matrix calculated using the outer product of gradients (complex-step).\n",
            "[2] Covariance matrix is singular or near-singular, with condition number 1.61e+44. Standard errors may be unstable.\n"
          ]
        }
      ],
      "source": [
        "# Build Model\n",
        "\n",
        "\n",
        "model = sm.tsa.arima.ARIMA(train, order=(3,0,2))\n",
        "result = model.fit()\n",
        "print(result.summary())\n",
        "\n"
      ]
    },
    {
      "cell_type": "code",
      "source": [
        "# Forecast\n",
        "fc= result.forecast(762, alpha=0.05)  # 95% conf\n",
        "\n",
        "# Make as pandas series\n",
        "fc_series = pd.Series(fc, index=test.index)\n",
        "\n"
      ],
      "metadata": {
        "id": "itLb1M93dnEq"
      },
      "execution_count": 104,
      "outputs": []
    },
    {
      "cell_type": "code",
      "source": [
        "forecast_accuracy(fc,test.values)"
      ],
      "metadata": {
        "colab": {
          "base_uri": "https://localhost:8080/"
        },
        "id": "742DJo6-fAOH",
        "outputId": "c77b014f-7d59-41fc-de5c-91ca363be9e1"
      },
      "execution_count": 105,
      "outputs": [
        {
          "output_type": "execute_result",
          "data": {
            "text/plain": [
              "{'mape': 0.1938,\n",
              " 'me': -12921509.682515807,\n",
              " 'mae': 29810056.398997784,\n",
              " 'mpe': 0.013427055349659501,\n",
              " 'rmse': 43265050.78381709,\n",
              " 'corr': 0.010303493053402321,\n",
              " 'minmax': 0.26256600870127966}"
            ]
          },
          "metadata": {},
          "execution_count": 105
        }
      ]
    },
    {
      "cell_type": "code",
      "source": [
        "#@title\n",
        "def get_technical_indicators(dataset): #function to generate feature technical indicators\n",
        "    \n",
        "    \n",
        "    # Create 7 and 21 days Moving Average\n",
        "    dataset['ma7'] = dataset['Close'].rolling(window = 7).mean()\n",
        "    dataset['ma21'] = dataset['Close'].rolling(window = 21).mean()\n",
        "    \n",
        "    #Create MACD\n",
        "    dataset['26ema'] = dataset['Close'].ewm(span=26).mean()\n",
        "    dataset['12ema'] = dataset['Close'].ewm(span=12).mean()\n",
        "    dataset['MACD'] = (dataset['12ema']-dataset['26ema'])\n",
        "    \n",
        "    #Create Bollinger Bands\n",
        "    dataset['20sd'] = dataset['Close'].rolling(window = 20).std()\n",
        "    dataset['upper_band'] = (dataset['Close'].rolling(window = 20).mean()) + (dataset['20sd']*2)\n",
        "    dataset['lower_band'] = (dataset['Close'].rolling(window = 20).mean()) - (dataset['20sd']*2)\n",
        "    \n",
        "    \n",
        "    #Create Exponential moving average\n",
        "    dataset['ema'] = dataset['Close'].ewm(com=0.5).mean()\n",
        "    \n",
        "    #Create Momentum\n",
        "    dataset['momentum'] = (dataset['Close']/100)-1\n",
        "    \n",
        "    \n",
        "    \n",
        "    return dataset"
      ],
      "metadata": {
        "id": "3xN2pmQc6Xo6"
      },
      "execution_count": 106,
      "outputs": []
    },
    {
      "cell_type": "code",
      "source": [
        "dataset_TI_df = get_technical_indicators(dataset_ex_df)"
      ],
      "metadata": {
        "id": "ziLoQd9V6jXN"
      },
      "execution_count": 107,
      "outputs": []
    },
    {
      "cell_type": "code",
      "source": [
        "dataset_TI_df"
      ],
      "metadata": {
        "colab": {
          "base_uri": "https://localhost:8080/",
          "height": 679
        },
        "id": "cfnPcDVd7F0C",
        "outputId": "d1c38526-9f63-46c1-9dd0-d852e85cc0af"
      },
      "execution_count": 108,
      "outputs": [
        {
          "output_type": "execute_result",
          "data": {
            "text/plain": [
              "           Date        Open        High         Low       Close   Adj Close  \\\n",
              "0    2012-08-30   12.349500   12.500000   12.262500   12.311000   12.311000   \n",
              "1    2012-08-31   12.403500   12.472500   12.275000   12.413500   12.413500   \n",
              "2    2012-09-04   12.413500   12.550000   12.233000   12.394000   12.394000   \n",
              "3    2012-09-05   12.380500   12.430500   12.265000   12.311000   12.311000   \n",
              "4    2012-09-06   12.411500   12.635000   12.360000   12.569000   12.569000   \n",
              "...         ...         ...         ...         ...         ...         ...   \n",
              "2258 2021-08-23  160.595001  164.044998  160.500504  163.293503  163.293503   \n",
              "2259 2021-08-24  164.000000  165.774506  163.729004  165.289001  165.289001   \n",
              "2260 2021-08-25  165.493500  166.050003  164.307495  164.959000  164.959000   \n",
              "2261 2021-08-26  164.949997  166.600006  164.800003  165.800003  165.800003   \n",
              "2262 2021-08-27  166.661499  167.615997  165.687500  167.481506  167.481506   \n",
              "\n",
              "         Volume         ma7        ma21       26ema       12ema      MACD  \\\n",
              "0      72950000         NaN         NaN   12.311000   12.311000  0.000000   \n",
              "1      66950000         NaN         NaN   12.364221   12.366521  0.002300   \n",
              "2      79016000         NaN         NaN   12.374920   12.377246  0.002326   \n",
              "3      53052000         NaN         NaN   12.357051   12.356335 -0.000716   \n",
              "4     107228000         NaN         NaN   12.406203   12.414115  0.007912   \n",
              "...         ...         ...         ...         ...         ...       ...   \n",
              "2258   65362000  162.069358  168.107810  167.959094  164.052762 -3.906332   \n",
              "2259   51036000  162.153715  167.169620  167.761310  164.242952 -3.518357   \n",
              "2260   33606000  162.155073  166.390548  167.553731  164.353114 -3.200617   \n",
              "2261   41976000  162.683930  165.642167  167.423825  164.575712 -2.848113   \n",
              "2262   48048000  163.744001  165.046238  167.428098  165.022757 -2.405341   \n",
              "\n",
              "          20sd  upper_band  lower_band         ema  momentum  \n",
              "0          NaN         NaN         NaN   12.311000 -0.876890  \n",
              "1          NaN         NaN         NaN   12.387875 -0.875865  \n",
              "2          NaN         NaN         NaN   12.392115 -0.876060  \n",
              "3          NaN         NaN         NaN   12.337362 -0.876890  \n",
              "4          NaN         NaN         NaN   12.492426 -0.874310  \n",
              "...        ...         ...         ...         ...       ...  \n",
              "2258  6.496182  180.256015  154.271286  162.188765  0.632935  \n",
              "2259  5.597418  177.656962  155.267289  164.255589  0.652890  \n",
              "2260  4.336043  174.306360  156.962190  164.724530  0.649590  \n",
              "2261  2.723349  170.371174  159.477776  165.441512  0.658000  \n",
              "2262  2.765165  170.509905  159.449246  166.801508  0.674815  \n",
              "\n",
              "[2263 rows x 17 columns]"
            ],
            "text/html": [
              "\n",
              "  <div id=\"df-415fe288-d95f-46d2-876a-16e98690ebaa\">\n",
              "    <div class=\"colab-df-container\">\n",
              "      <div>\n",
              "<style scoped>\n",
              "    .dataframe tbody tr th:only-of-type {\n",
              "        vertical-align: middle;\n",
              "    }\n",
              "\n",
              "    .dataframe tbody tr th {\n",
              "        vertical-align: top;\n",
              "    }\n",
              "\n",
              "    .dataframe thead th {\n",
              "        text-align: right;\n",
              "    }\n",
              "</style>\n",
              "<table border=\"1\" class=\"dataframe\">\n",
              "  <thead>\n",
              "    <tr style=\"text-align: right;\">\n",
              "      <th></th>\n",
              "      <th>Date</th>\n",
              "      <th>Open</th>\n",
              "      <th>High</th>\n",
              "      <th>Low</th>\n",
              "      <th>Close</th>\n",
              "      <th>Adj Close</th>\n",
              "      <th>Volume</th>\n",
              "      <th>ma7</th>\n",
              "      <th>ma21</th>\n",
              "      <th>26ema</th>\n",
              "      <th>12ema</th>\n",
              "      <th>MACD</th>\n",
              "      <th>20sd</th>\n",
              "      <th>upper_band</th>\n",
              "      <th>lower_band</th>\n",
              "      <th>ema</th>\n",
              "      <th>momentum</th>\n",
              "    </tr>\n",
              "  </thead>\n",
              "  <tbody>\n",
              "    <tr>\n",
              "      <th>0</th>\n",
              "      <td>2012-08-30</td>\n",
              "      <td>12.349500</td>\n",
              "      <td>12.500000</td>\n",
              "      <td>12.262500</td>\n",
              "      <td>12.311000</td>\n",
              "      <td>12.311000</td>\n",
              "      <td>72950000</td>\n",
              "      <td>NaN</td>\n",
              "      <td>NaN</td>\n",
              "      <td>12.311000</td>\n",
              "      <td>12.311000</td>\n",
              "      <td>0.000000</td>\n",
              "      <td>NaN</td>\n",
              "      <td>NaN</td>\n",
              "      <td>NaN</td>\n",
              "      <td>12.311000</td>\n",
              "      <td>-0.876890</td>\n",
              "    </tr>\n",
              "    <tr>\n",
              "      <th>1</th>\n",
              "      <td>2012-08-31</td>\n",
              "      <td>12.403500</td>\n",
              "      <td>12.472500</td>\n",
              "      <td>12.275000</td>\n",
              "      <td>12.413500</td>\n",
              "      <td>12.413500</td>\n",
              "      <td>66950000</td>\n",
              "      <td>NaN</td>\n",
              "      <td>NaN</td>\n",
              "      <td>12.364221</td>\n",
              "      <td>12.366521</td>\n",
              "      <td>0.002300</td>\n",
              "      <td>NaN</td>\n",
              "      <td>NaN</td>\n",
              "      <td>NaN</td>\n",
              "      <td>12.387875</td>\n",
              "      <td>-0.875865</td>\n",
              "    </tr>\n",
              "    <tr>\n",
              "      <th>2</th>\n",
              "      <td>2012-09-04</td>\n",
              "      <td>12.413500</td>\n",
              "      <td>12.550000</td>\n",
              "      <td>12.233000</td>\n",
              "      <td>12.394000</td>\n",
              "      <td>12.394000</td>\n",
              "      <td>79016000</td>\n",
              "      <td>NaN</td>\n",
              "      <td>NaN</td>\n",
              "      <td>12.374920</td>\n",
              "      <td>12.377246</td>\n",
              "      <td>0.002326</td>\n",
              "      <td>NaN</td>\n",
              "      <td>NaN</td>\n",
              "      <td>NaN</td>\n",
              "      <td>12.392115</td>\n",
              "      <td>-0.876060</td>\n",
              "    </tr>\n",
              "    <tr>\n",
              "      <th>3</th>\n",
              "      <td>2012-09-05</td>\n",
              "      <td>12.380500</td>\n",
              "      <td>12.430500</td>\n",
              "      <td>12.265000</td>\n",
              "      <td>12.311000</td>\n",
              "      <td>12.311000</td>\n",
              "      <td>53052000</td>\n",
              "      <td>NaN</td>\n",
              "      <td>NaN</td>\n",
              "      <td>12.357051</td>\n",
              "      <td>12.356335</td>\n",
              "      <td>-0.000716</td>\n",
              "      <td>NaN</td>\n",
              "      <td>NaN</td>\n",
              "      <td>NaN</td>\n",
              "      <td>12.337362</td>\n",
              "      <td>-0.876890</td>\n",
              "    </tr>\n",
              "    <tr>\n",
              "      <th>4</th>\n",
              "      <td>2012-09-06</td>\n",
              "      <td>12.411500</td>\n",
              "      <td>12.635000</td>\n",
              "      <td>12.360000</td>\n",
              "      <td>12.569000</td>\n",
              "      <td>12.569000</td>\n",
              "      <td>107228000</td>\n",
              "      <td>NaN</td>\n",
              "      <td>NaN</td>\n",
              "      <td>12.406203</td>\n",
              "      <td>12.414115</td>\n",
              "      <td>0.007912</td>\n",
              "      <td>NaN</td>\n",
              "      <td>NaN</td>\n",
              "      <td>NaN</td>\n",
              "      <td>12.492426</td>\n",
              "      <td>-0.874310</td>\n",
              "    </tr>\n",
              "    <tr>\n",
              "      <th>...</th>\n",
              "      <td>...</td>\n",
              "      <td>...</td>\n",
              "      <td>...</td>\n",
              "      <td>...</td>\n",
              "      <td>...</td>\n",
              "      <td>...</td>\n",
              "      <td>...</td>\n",
              "      <td>...</td>\n",
              "      <td>...</td>\n",
              "      <td>...</td>\n",
              "      <td>...</td>\n",
              "      <td>...</td>\n",
              "      <td>...</td>\n",
              "      <td>...</td>\n",
              "      <td>...</td>\n",
              "      <td>...</td>\n",
              "      <td>...</td>\n",
              "    </tr>\n",
              "    <tr>\n",
              "      <th>2258</th>\n",
              "      <td>2021-08-23</td>\n",
              "      <td>160.595001</td>\n",
              "      <td>164.044998</td>\n",
              "      <td>160.500504</td>\n",
              "      <td>163.293503</td>\n",
              "      <td>163.293503</td>\n",
              "      <td>65362000</td>\n",
              "      <td>162.069358</td>\n",
              "      <td>168.107810</td>\n",
              "      <td>167.959094</td>\n",
              "      <td>164.052762</td>\n",
              "      <td>-3.906332</td>\n",
              "      <td>6.496182</td>\n",
              "      <td>180.256015</td>\n",
              "      <td>154.271286</td>\n",
              "      <td>162.188765</td>\n",
              "      <td>0.632935</td>\n",
              "    </tr>\n",
              "    <tr>\n",
              "      <th>2259</th>\n",
              "      <td>2021-08-24</td>\n",
              "      <td>164.000000</td>\n",
              "      <td>165.774506</td>\n",
              "      <td>163.729004</td>\n",
              "      <td>165.289001</td>\n",
              "      <td>165.289001</td>\n",
              "      <td>51036000</td>\n",
              "      <td>162.153715</td>\n",
              "      <td>167.169620</td>\n",
              "      <td>167.761310</td>\n",
              "      <td>164.242952</td>\n",
              "      <td>-3.518357</td>\n",
              "      <td>5.597418</td>\n",
              "      <td>177.656962</td>\n",
              "      <td>155.267289</td>\n",
              "      <td>164.255589</td>\n",
              "      <td>0.652890</td>\n",
              "    </tr>\n",
              "    <tr>\n",
              "      <th>2260</th>\n",
              "      <td>2021-08-25</td>\n",
              "      <td>165.493500</td>\n",
              "      <td>166.050003</td>\n",
              "      <td>164.307495</td>\n",
              "      <td>164.959000</td>\n",
              "      <td>164.959000</td>\n",
              "      <td>33606000</td>\n",
              "      <td>162.155073</td>\n",
              "      <td>166.390548</td>\n",
              "      <td>167.553731</td>\n",
              "      <td>164.353114</td>\n",
              "      <td>-3.200617</td>\n",
              "      <td>4.336043</td>\n",
              "      <td>174.306360</td>\n",
              "      <td>156.962190</td>\n",
              "      <td>164.724530</td>\n",
              "      <td>0.649590</td>\n",
              "    </tr>\n",
              "    <tr>\n",
              "      <th>2261</th>\n",
              "      <td>2021-08-26</td>\n",
              "      <td>164.949997</td>\n",
              "      <td>166.600006</td>\n",
              "      <td>164.800003</td>\n",
              "      <td>165.800003</td>\n",
              "      <td>165.800003</td>\n",
              "      <td>41976000</td>\n",
              "      <td>162.683930</td>\n",
              "      <td>165.642167</td>\n",
              "      <td>167.423825</td>\n",
              "      <td>164.575712</td>\n",
              "      <td>-2.848113</td>\n",
              "      <td>2.723349</td>\n",
              "      <td>170.371174</td>\n",
              "      <td>159.477776</td>\n",
              "      <td>165.441512</td>\n",
              "      <td>0.658000</td>\n",
              "    </tr>\n",
              "    <tr>\n",
              "      <th>2262</th>\n",
              "      <td>2021-08-27</td>\n",
              "      <td>166.661499</td>\n",
              "      <td>167.615997</td>\n",
              "      <td>165.687500</td>\n",
              "      <td>167.481506</td>\n",
              "      <td>167.481506</td>\n",
              "      <td>48048000</td>\n",
              "      <td>163.744001</td>\n",
              "      <td>165.046238</td>\n",
              "      <td>167.428098</td>\n",
              "      <td>165.022757</td>\n",
              "      <td>-2.405341</td>\n",
              "      <td>2.765165</td>\n",
              "      <td>170.509905</td>\n",
              "      <td>159.449246</td>\n",
              "      <td>166.801508</td>\n",
              "      <td>0.674815</td>\n",
              "    </tr>\n",
              "  </tbody>\n",
              "</table>\n",
              "<p>2263 rows × 17 columns</p>\n",
              "</div>\n",
              "      <button class=\"colab-df-convert\" onclick=\"convertToInteractive('df-415fe288-d95f-46d2-876a-16e98690ebaa')\"\n",
              "              title=\"Convert this dataframe to an interactive table.\"\n",
              "              style=\"display:none;\">\n",
              "        \n",
              "  <svg xmlns=\"http://www.w3.org/2000/svg\" height=\"24px\"viewBox=\"0 0 24 24\"\n",
              "       width=\"24px\">\n",
              "    <path d=\"M0 0h24v24H0V0z\" fill=\"none\"/>\n",
              "    <path d=\"M18.56 5.44l.94 2.06.94-2.06 2.06-.94-2.06-.94-.94-2.06-.94 2.06-2.06.94zm-11 1L8.5 8.5l.94-2.06 2.06-.94-2.06-.94L8.5 2.5l-.94 2.06-2.06.94zm10 10l.94 2.06.94-2.06 2.06-.94-2.06-.94-.94-2.06-.94 2.06-2.06.94z\"/><path d=\"M17.41 7.96l-1.37-1.37c-.4-.4-.92-.59-1.43-.59-.52 0-1.04.2-1.43.59L10.3 9.45l-7.72 7.72c-.78.78-.78 2.05 0 2.83L4 21.41c.39.39.9.59 1.41.59.51 0 1.02-.2 1.41-.59l7.78-7.78 2.81-2.81c.8-.78.8-2.07 0-2.86zM5.41 20L4 18.59l7.72-7.72 1.47 1.35L5.41 20z\"/>\n",
              "  </svg>\n",
              "      </button>\n",
              "      \n",
              "  <style>\n",
              "    .colab-df-container {\n",
              "      display:flex;\n",
              "      flex-wrap:wrap;\n",
              "      gap: 12px;\n",
              "    }\n",
              "\n",
              "    .colab-df-convert {\n",
              "      background-color: #E8F0FE;\n",
              "      border: none;\n",
              "      border-radius: 50%;\n",
              "      cursor: pointer;\n",
              "      display: none;\n",
              "      fill: #1967D2;\n",
              "      height: 32px;\n",
              "      padding: 0 0 0 0;\n",
              "      width: 32px;\n",
              "    }\n",
              "\n",
              "    .colab-df-convert:hover {\n",
              "      background-color: #E2EBFA;\n",
              "      box-shadow: 0px 1px 2px rgba(60, 64, 67, 0.3), 0px 1px 3px 1px rgba(60, 64, 67, 0.15);\n",
              "      fill: #174EA6;\n",
              "    }\n",
              "\n",
              "    [theme=dark] .colab-df-convert {\n",
              "      background-color: #3B4455;\n",
              "      fill: #D2E3FC;\n",
              "    }\n",
              "\n",
              "    [theme=dark] .colab-df-convert:hover {\n",
              "      background-color: #434B5C;\n",
              "      box-shadow: 0px 1px 3px 1px rgba(0, 0, 0, 0.15);\n",
              "      filter: drop-shadow(0px 1px 2px rgba(0, 0, 0, 0.3));\n",
              "      fill: #FFFFFF;\n",
              "    }\n",
              "  </style>\n",
              "\n",
              "      <script>\n",
              "        const buttonEl =\n",
              "          document.querySelector('#df-415fe288-d95f-46d2-876a-16e98690ebaa button.colab-df-convert');\n",
              "        buttonEl.style.display =\n",
              "          google.colab.kernel.accessAllowed ? 'block' : 'none';\n",
              "\n",
              "        async function convertToInteractive(key) {\n",
              "          const element = document.querySelector('#df-415fe288-d95f-46d2-876a-16e98690ebaa');\n",
              "          const dataTable =\n",
              "            await google.colab.kernel.invokeFunction('convertToInteractive',\n",
              "                                                     [key], {});\n",
              "          if (!dataTable) return;\n",
              "\n",
              "          const docLinkHtml = 'Like what you see? Visit the ' +\n",
              "            '<a target=\"_blank\" href=https://colab.research.google.com/notebooks/data_table.ipynb>data table notebook</a>'\n",
              "            + ' to learn more about interactive tables.';\n",
              "          element.innerHTML = '';\n",
              "          dataTable['output_type'] = 'display_data';\n",
              "          await google.colab.output.renderOutput(dataTable, element);\n",
              "          const docLink = document.createElement('div');\n",
              "          docLink.innerHTML = docLinkHtml;\n",
              "          element.appendChild(docLink);\n",
              "        }\n",
              "      </script>\n",
              "    </div>\n",
              "  </div>\n",
              "  "
            ]
          },
          "metadata": {},
          "execution_count": 108
        }
      ]
    },
    {
      "cell_type": "code",
      "source": [
        "def plot_technical_indicators(dataset, last_days):\n",
        "    plt.figure(figsize=(16, 10), dpi=100)\n",
        "    shape_0 = dataset.shape[0]\n",
        "    xmacd_ = shape_0-last_days\n",
        "    \n",
        "    dataset = dataset.iloc[-last_days:, :]\n",
        "    x_ = range(3, dataset.shape[0])\n",
        "    x_ =list(dataset.index)\n",
        "    \n",
        "    # Plot first subplot\n",
        "    plt.subplot(2, 1, 1)\n",
        "    plt.plot(dataset['ma7'],label='MA 7', color='g',linestyle='--')\n",
        "    plt.plot(dataset['Close'],label='Closing Price', color='b')\n",
        "    plt.plot(dataset['ma21'],label='MA 21', color='r',linestyle='--')\n",
        "    plt.plot(dataset['upper_band'],label='Upper Band', color='c')\n",
        "    plt.plot(dataset['lower_band'],label='Lower Band', color='c')\n",
        "    plt.fill_between(x_, dataset['lower_band'], dataset['upper_band'], alpha=0.35)\n",
        "    plt.title('Technical indicators for Amazon - last {} days.'.format(last_days))\n",
        "    plt.ylabel('USD')\n",
        "    plt.legend()\n",
        "\n",
        "    # Plot second subplot\n",
        "    plt.subplot(2, 1, 2)\n",
        "    plt.title('MACD')\n",
        "    plt.plot(dataset['MACD'],label='MACD', linestyle='-.')\n",
        "    plt.hlines(15, xmacd_, shape_0, colors='g', linestyles='--')\n",
        "    plt.hlines(-15, xmacd_, shape_0, colors='g', linestyles='--')\n",
        "    plt.plot(dataset['momentum'],label='Momentum', color='b',linestyle='-')\n",
        "\n",
        "    plt.legend()\n",
        "    plt.show()"
      ],
      "metadata": {
        "id": "J-TyLGT97KvF"
      },
      "execution_count": 109,
      "outputs": []
    },
    {
      "cell_type": "code",
      "source": [
        "plot_technical_indicators(dataset_TI_df, 400)"
      ],
      "metadata": {
        "colab": {
          "base_uri": "https://localhost:8080/",
          "height": 838
        },
        "id": "uUOd2PI37Tq4",
        "outputId": "2338d44e-af4c-443a-bda8-46c8f6312cc1"
      },
      "execution_count": 110,
      "outputs": [
        {
          "output_type": "display_data",
          "data": {
            "text/plain": [
              "<Figure size 1600x1000 with 2 Axes>"
            ],
            "image/png": "[encoded data removed]"
          },
          "metadata": {
            "needs_background": "light"
          }
        }
      ]
    },
    {
      "cell_type": "markdown",
      "source": [
        "Prophet Model"
      ],
      "metadata": {
        "id": "LRbk60yqBZ0f"
      }
    },
    {
      "cell_type": "code",
      "source": [
        "!pip install prophet"
      ],
      "metadata": {
        "colab": {
          "base_uri": "https://localhost:8080/"
        },
        "id": "-jlH5RlZBvg2",
        "outputId": "5ec0c4a7-649d-473f-b589-335ec1237546"
      },
      "execution_count": 111,
      "outputs": [
        {
          "output_type": "stream",
          "name": "stdout",
          "text": [
            "Looking in indexes: https://pypi.org/simple, https://us-python.pkg.dev/colab-wheels/public/simple/\n",
            "Requirement already satisfied: prophet in /usr/local/lib/python3.7/dist-packages (1.1)\n",
            "Requirement already satisfied: convertdate>=2.1.2 in /usr/local/lib/python3.7/dist-packages (from prophet) (2.4.0)\n",
            "Requirement already satisfied: holidays>=0.13 in /usr/local/lib/python3.7/dist-packages (from prophet) (0.14.2)\n",
            "Requirement already satisfied: numpy>=1.15.4 in /usr/local/lib/python3.7/dist-packages (from prophet) (1.21.6)\n",
            "Requirement already satisfied: Cython>=0.22 in /usr/local/lib/python3.7/dist-packages (from prophet) (0.29.32)\n",
            "Requirement already satisfied: matplotlib>=2.0.0 in /usr/local/lib/python3.7/dist-packages (from prophet) (3.2.2)\n",
            "Requirement already satisfied: wheel>=0.37.0 in /usr/local/lib/python3.7/dist-packages (from prophet) (0.37.1)\n",
            "Requirement already satisfied: cmdstanpy>=1.0.1 in /usr/local/lib/python3.7/dist-packages (from prophet) (1.0.4)\n",
            "Requirement already satisfied: pandas>=1.0.4 in /usr/local/lib/python3.7/dist-packages (from prophet) (1.3.5)\n",
            "Requirement already satisfied: python-dateutil>=2.8.0 in /usr/local/lib/python3.7/dist-packages (from prophet) (2.8.2)\n",
            "Requirement already satisfied: tqdm>=4.36.1 in /usr/local/lib/python3.7/dist-packages (from prophet) (4.64.0)\n",
            "Requirement already satisfied: setuptools-git>=1.2 in /usr/local/lib/python3.7/dist-packages (from prophet) (1.2)\n",
            "Requirement already satisfied: setuptools>=42 in /usr/local/lib/python3.7/dist-packages (from prophet) (57.4.0)\n",
            "Requirement already satisfied: LunarCalendar>=0.0.9 in /usr/local/lib/python3.7/dist-packages (from prophet) (0.0.9)\n",
            "Requirement already satisfied: ujson in /usr/local/lib/python3.7/dist-packages (from cmdstanpy>=1.0.1->prophet) (5.4.0)\n",
            "Requirement already satisfied: pymeeus<=1,>=0.3.13 in /usr/local/lib/python3.7/dist-packages (from convertdate>=2.1.2->prophet) (0.5.11)\n",
            "Requirement already satisfied: hijri-converter in /usr/local/lib/python3.7/dist-packages (from holidays>=0.13->prophet) (2.2.4)\n",
            "Requirement already satisfied: korean-lunar-calendar in /usr/local/lib/python3.7/dist-packages (from holidays>=0.13->prophet) (0.2.1)\n",
            "Requirement already satisfied: ephem>=3.7.5.3 in /usr/local/lib/python3.7/dist-packages (from LunarCalendar>=0.0.9->prophet) (4.1.3)\n",
            "Requirement already satisfied: pytz in /usr/local/lib/python3.7/dist-packages (from LunarCalendar>=0.0.9->prophet) (2022.1)\n",
            "Requirement already satisfied: kiwisolver>=1.0.1 in /usr/local/lib/python3.7/dist-packages (from matplotlib>=2.0.0->prophet) (1.4.4)\n",
            "Requirement already satisfied: cycler>=0.10 in /usr/local/lib/python3.7/dist-packages (from matplotlib>=2.0.0->prophet) (0.11.0)\n",
            "Requirement already satisfied: pyparsing!=2.0.4,!=2.1.2,!=2.1.6,>=2.0.1 in /usr/local/lib/python3.7/dist-packages (from matplotlib>=2.0.0->prophet) (3.0.9)\n",
            "Requirement already satisfied: typing-extensions in /usr/local/lib/python3.7/dist-packages (from kiwisolver>=1.0.1->matplotlib>=2.0.0->prophet) (4.1.1)\n",
            "Requirement already satisfied: six>=1.5 in /usr/local/lib/python3.7/dist-packages (from python-dateutil>=2.8.0->prophet) (1.15.0)\n"
          ]
        }
      ]
    },
    {
      "cell_type": "code",
      "source": [
        "from prophet import Prophet"
      ],
      "metadata": {
        "id": "Sf5fsC0TBdcd"
      },
      "execution_count": 112,
      "outputs": []
    },
    {
      "cell_type": "code",
      "source": [
        "d=dataset_ex_df.copy()"
      ],
      "metadata": {
        "id": "8vI-Ea9dD19V"
      },
      "execution_count": 113,
      "outputs": []
    },
    {
      "cell_type": "code",
      "source": [
        "data=d[['Date', 'Close']]"
      ],
      "metadata": {
        "id": "P_Mtqv6-Cy3k"
      },
      "execution_count": 114,
      "outputs": []
    },
    {
      "cell_type": "code",
      "source": [
        "# Drop the columns\n",
        "data.rename(columns={'Date': 'ds','Close': 'y'},inplace=True)\n",
        "data.head()"
      ],
      "metadata": {
        "colab": {
          "base_uri": "https://localhost:8080/",
          "height": 206
        },
        "id": "ohaMiEqbF99p",
        "outputId": "0cbc5fcc-8832-4042-f0b3-16e4649e1ba2"
      },
      "execution_count": 115,
      "outputs": [
        {
          "output_type": "execute_result",
          "data": {
            "text/plain": [
              "          ds        y\n",
              "0 2012-08-30  12.3110\n",
              "1 2012-08-31  12.4135\n",
              "2 2012-09-04  12.3940\n",
              "3 2012-09-05  12.3110\n",
              "4 2012-09-06  12.5690"
            ],
            "text/html": [
              "\n",
              "  <div id=\"df-ac8f20eb-8352-4110-9c17-8d3539e6a5c0\">\n",
              "    <div class=\"colab-df-container\">\n",
              "      <div>\n",
              "<style scoped>\n",
              "    .dataframe tbody tr th:only-of-type {\n",
              "        vertical-align: middle;\n",
              "    }\n",
              "\n",
              "    .dataframe tbody tr th {\n",
              "        vertical-align: top;\n",
              "    }\n",
              "\n",
              "    .dataframe thead th {\n",
              "        text-align: right;\n",
              "    }\n",
              "</style>\n",
              "<table border=\"1\" class=\"dataframe\">\n",
              "  <thead>\n",
              "    <tr style=\"text-align: right;\">\n",
              "      <th></th>\n",
              "      <th>ds</th>\n",
              "      <th>y</th>\n",
              "    </tr>\n",
              "  </thead>\n",
              "  <tbody>\n",
              "    <tr>\n",
              "      <th>0</th>\n",
              "      <td>2012-08-30</td>\n",
              "      <td>12.3110</td>\n",
              "    </tr>\n",
              "    <tr>\n",
              "      <th>1</th>\n",
              "      <td>2012-08-31</td>\n",
              "      <td>12.4135</td>\n",
              "    </tr>\n",
              "    <tr>\n",
              "      <th>2</th>\n",
              "      <td>2012-09-04</td>\n",
              "      <td>12.3940</td>\n",
              "    </tr>\n",
              "    <tr>\n",
              "      <th>3</th>\n",
              "      <td>2012-09-05</td>\n",
              "      <td>12.3110</td>\n",
              "    </tr>\n",
              "    <tr>\n",
              "      <th>4</th>\n",
              "      <td>2012-09-06</td>\n",
              "      <td>12.5690</td>\n",
              "    </tr>\n",
              "  </tbody>\n",
              "</table>\n",
              "</div>\n",
              "      <button class=\"colab-df-convert\" onclick=\"convertToInteractive('df-ac8f20eb-8352-4110-9c17-8d3539e6a5c0')\"\n",
              "              title=\"Convert this dataframe to an interactive table.\"\n",
              "              style=\"display:none;\">\n",
              "        \n",
              "  <svg xmlns=\"http://www.w3.org/2000/svg\" height=\"24px\"viewBox=\"0 0 24 24\"\n",
              "       width=\"24px\">\n",
              "    <path d=\"M0 0h24v24H0V0z\" fill=\"none\"/>\n",
              "    <path d=\"M18.56 5.44l.94 2.06.94-2.06 2.06-.94-2.06-.94-.94-2.06-.94 2.06-2.06.94zm-11 1L8.5 8.5l.94-2.06 2.06-.94-2.06-.94L8.5 2.5l-.94 2.06-2.06.94zm10 10l.94 2.06.94-2.06 2.06-.94-2.06-.94-.94-2.06-.94 2.06-2.06.94z\"/><path d=\"M17.41 7.96l-1.37-1.37c-.4-.4-.92-.59-1.43-.59-.52 0-1.04.2-1.43.59L10.3 9.45l-7.72 7.72c-.78.78-.78 2.05 0 2.83L4 21.41c.39.39.9.59 1.41.59.51 0 1.02-.2 1.41-.59l7.78-7.78 2.81-2.81c.8-.78.8-2.07 0-2.86zM5.41 20L4 18.59l7.72-7.72 1.47 1.35L5.41 20z\"/>\n",
              "  </svg>\n",
              "      </button>\n",
              "      \n",
              "  <style>\n",
              "    .colab-df-container {\n",
              "      display:flex;\n",
              "      flex-wrap:wrap;\n",
              "      gap: 12px;\n",
              "    }\n",
              "\n",
              "    .colab-df-convert {\n",
              "      background-color: #E8F0FE;\n",
              "      border: none;\n",
              "      border-radius: 50%;\n",
              "      cursor: pointer;\n",
              "      display: none;\n",
              "      fill: #1967D2;\n",
              "      height: 32px;\n",
              "      padding: 0 0 0 0;\n",
              "      width: 32px;\n",
              "    }\n",
              "\n",
              "    .colab-df-convert:hover {\n",
              "      background-color: #E2EBFA;\n",
              "      box-shadow: 0px 1px 2px rgba(60, 64, 67, 0.3), 0px 1px 3px 1px rgba(60, 64, 67, 0.15);\n",
              "      fill: #174EA6;\n",
              "    }\n",
              "\n",
              "    [theme=dark] .colab-df-convert {\n",
              "      background-color: #3B4455;\n",
              "      fill: #D2E3FC;\n",
              "    }\n",
              "\n",
              "    [theme=dark] .colab-df-convert:hover {\n",
              "      background-color: #434B5C;\n",
              "      box-shadow: 0px 1px 3px 1px rgba(0, 0, 0, 0.15);\n",
              "      filter: drop-shadow(0px 1px 2px rgba(0, 0, 0, 0.3));\n",
              "      fill: #FFFFFF;\n",
              "    }\n",
              "  </style>\n",
              "\n",
              "      <script>\n",
              "        const buttonEl =\n",
              "          document.querySelector('#df-ac8f20eb-8352-4110-9c17-8d3539e6a5c0 button.colab-df-convert');\n",
              "        buttonEl.style.display =\n",
              "          google.colab.kernel.accessAllowed ? 'block' : 'none';\n",
              "\n",
              "        async function convertToInteractive(key) {\n",
              "          const element = document.querySelector('#df-ac8f20eb-8352-4110-9c17-8d3539e6a5c0');\n",
              "          const dataTable =\n",
              "            await google.colab.kernel.invokeFunction('convertToInteractive',\n",
              "                                                     [key], {});\n",
              "          if (!dataTable) return;\n",
              "\n",
              "          const docLinkHtml = 'Like what you see? Visit the ' +\n",
              "            '<a target=\"_blank\" href=https://colab.research.google.com/notebooks/data_table.ipynb>data table notebook</a>'\n",
              "            + ' to learn more about interactive tables.';\n",
              "          element.innerHTML = '';\n",
              "          dataTable['output_type'] = 'display_data';\n",
              "          await google.colab.output.renderOutput(dataTable, element);\n",
              "          const docLink = document.createElement('div');\n",
              "          docLink.innerHTML = docLinkHtml;\n",
              "          element.appendChild(docLink);\n",
              "        }\n",
              "      </script>\n",
              "    </div>\n",
              "  </div>\n",
              "  "
            ]
          },
          "metadata": {},
          "execution_count": 115
        }
      ]
    },
    {
      "cell_type": "code",
      "source": [
        "train = data.iloc[:1501]\n",
        "test = data.iloc[1501:]"
      ],
      "metadata": {
        "id": "vVOh8biIHSgA"
      },
      "execution_count": 116,
      "outputs": []
    },
    {
      "cell_type": "code",
      "source": [
        "m = Prophet()\n",
        "m.fit(train)\n",
        "# Create Future dates\n",
        "future_prices = m.make_future_dataframe(periods=762)\n",
        "\n",
        "# Predict Prices\n",
        "forecast = m.predict(future_prices)"
      ],
      "metadata": {
        "colab": {
          "base_uri": "https://localhost:8080/"
        },
        "id": "MlggEBO0B3Z5",
        "outputId": "7a12cb74-c166-4054-caee-7a2692b00e26"
      },
      "execution_count": 117,
      "outputs": [
        {
          "output_type": "stream",
          "name": "stderr",
          "text": [
            "INFO:prophet:Disabling daily seasonality. Run prophet with daily_seasonality=True to override this.\n",
            "DEBUG:cmdstanpy:input tempfile: /tmp/tmpm32uxese/gafifs79.json\n",
            "DEBUG:cmdstanpy:input tempfile: /tmp/tmpm32uxese/76av2wo8.json\n",
            "DEBUG:cmdstanpy:idx 0\n",
            "DEBUG:cmdstanpy:running CmdStan, num_threads: None\n",
            "DEBUG:cmdstanpy:CmdStan args: ['/usr/local/lib/python3.7/dist-packages/prophet/stan_model/prophet_model.bin', 'random', 'seed=71101', 'data', 'file=/tmp/tmpm32uxese/gafifs79.json', 'init=/tmp/tmpm32uxese/76av2wo8.json', 'output', 'file=/tmp/tmpnibpyi_p/prophet_model-20220817104930.csv', 'method=optimize', 'algorithm=lbfgs', 'iter=10000']\n",
            "10:49:30 - cmdstanpy - INFO - Chain [1] start processing\n",
            "INFO:cmdstanpy:Chain [1] start processing\n",
            "10:49:32 - cmdstanpy - INFO - Chain [1] done processing\n",
            "INFO:cmdstanpy:Chain [1] done processing\n"
          ]
        }
      ]
    },
    {
      "cell_type": "code",
      "source": [
        "fc=forecast[1501:]"
      ],
      "metadata": {
        "id": "szLw9US4I3Bh"
      },
      "execution_count": 118,
      "outputs": []
    },
    {
      "cell_type": "code",
      "source": [
        "fc=fc[['ds','trend']]"
      ],
      "metadata": {
        "id": "FjCnbmAHJPgt"
      },
      "execution_count": 119,
      "outputs": []
    },
    {
      "cell_type": "code",
      "source": [
        "fc"
      ],
      "metadata": {
        "colab": {
          "base_uri": "https://localhost:8080/",
          "height": 424
        },
        "id": "Geknt-2jJa3E",
        "outputId": "36dd039e-8b5c-4eb3-eae4-30a76f7cbf6b"
      },
      "execution_count": 120,
      "outputs": [
        {
          "output_type": "execute_result",
          "data": {
            "text/plain": [
              "             ds       trend\n",
              "1501 2018-08-18   88.542170\n",
              "1502 2018-08-19   88.647826\n",
              "1503 2018-08-20   88.753483\n",
              "1504 2018-08-21   88.859140\n",
              "1505 2018-08-22   88.964796\n",
              "...         ...         ...\n",
              "2258 2020-09-13  168.524167\n",
              "2259 2020-09-14  168.629824\n",
              "2260 2020-09-15  168.735480\n",
              "2261 2020-09-16  168.841137\n",
              "2262 2020-09-17  168.946793\n",
              "\n",
              "[762 rows x 2 columns]"
            ],
            "text/html": [
              "\n",
              "  <div id=\"df-1c16910f-0ddb-4f55-8116-e7bb6c358492\">\n",
              "    <div class=\"colab-df-container\">\n",
              "      <div>\n",
              "<style scoped>\n",
              "    .dataframe tbody tr th:only-of-type {\n",
              "        vertical-align: middle;\n",
              "    }\n",
              "\n",
              "    .dataframe tbody tr th {\n",
              "        vertical-align: top;\n",
              "    }\n",
              "\n",
              "    .dataframe thead th {\n",
              "        text-align: right;\n",
              "    }\n",
              "</style>\n",
              "<table border=\"1\" class=\"dataframe\">\n",
              "  <thead>\n",
              "    <tr style=\"text-align: right;\">\n",
              "      <th></th>\n",
              "      <th>ds</th>\n",
              "      <th>trend</th>\n",
              "    </tr>\n",
              "  </thead>\n",
              "  <tbody>\n",
              "    <tr>\n",
              "      <th>1501</th>\n",
              "      <td>2018-08-18</td>\n",
              "      <td>88.542170</td>\n",
              "    </tr>\n",
              "    <tr>\n",
              "      <th>1502</th>\n",
              "      <td>2018-08-19</td>\n",
              "      <td>88.647826</td>\n",
              "    </tr>\n",
              "    <tr>\n",
              "      <th>1503</th>\n",
              "      <td>2018-08-20</td>\n",
              "      <td>88.753483</td>\n",
              "    </tr>\n",
              "    <tr>\n",
              "      <th>1504</th>\n",
              "      <td>2018-08-21</td>\n",
              "      <td>88.859140</td>\n",
              "    </tr>\n",
              "    <tr>\n",
              "      <th>1505</th>\n",
              "      <td>2018-08-22</td>\n",
              "      <td>88.964796</td>\n",
              "    </tr>\n",
              "    <tr>\n",
              "      <th>...</th>\n",
              "      <td>...</td>\n",
              "      <td>...</td>\n",
              "    </tr>\n",
              "    <tr>\n",
              "      <th>2258</th>\n",
              "      <td>2020-09-13</td>\n",
              "      <td>168.524167</td>\n",
              "    </tr>\n",
              "    <tr>\n",
              "      <th>2259</th>\n",
              "      <td>2020-09-14</td>\n",
              "      <td>168.629824</td>\n",
              "    </tr>\n",
              "    <tr>\n",
              "      <th>2260</th>\n",
              "      <td>2020-09-15</td>\n",
              "      <td>168.735480</td>\n",
              "    </tr>\n",
              "    <tr>\n",
              "      <th>2261</th>\n",
              "      <td>2020-09-16</td>\n",
              "      <td>168.841137</td>\n",
              "    </tr>\n",
              "    <tr>\n",
              "      <th>2262</th>\n",
              "      <td>2020-09-17</td>\n",
              "      <td>168.946793</td>\n",
              "    </tr>\n",
              "  </tbody>\n",
              "</table>\n",
              "<p>762 rows × 2 columns</p>\n",
              "</div>\n",
              "      <button class=\"colab-df-convert\" onclick=\"convertToInteractive('df-1c16910f-0ddb-4f55-8116-e7bb6c358492')\"\n",
              "              title=\"Convert this dataframe to an interactive table.\"\n",
              "              style=\"display:none;\">\n",
              "        \n",
              "  <svg xmlns=\"http://www.w3.org/2000/svg\" height=\"24px\"viewBox=\"0 0 24 24\"\n",
              "       width=\"24px\">\n",
              "    <path d=\"M0 0h24v24H0V0z\" fill=\"none\"/>\n",
              "    <path d=\"M18.56 5.44l.94 2.06.94-2.06 2.06-.94-2.06-.94-.94-2.06-.94 2.06-2.06.94zm-11 1L8.5 8.5l.94-2.06 2.06-.94-2.06-.94L8.5 2.5l-.94 2.06-2.06.94zm10 10l.94 2.06.94-2.06 2.06-.94-2.06-.94-.94-2.06-.94 2.06-2.06.94z\"/><path d=\"M17.41 7.96l-1.37-1.37c-.4-.4-.92-.59-1.43-.59-.52 0-1.04.2-1.43.59L10.3 9.45l-7.72 7.72c-.78.78-.78 2.05 0 2.83L4 21.41c.39.39.9.59 1.41.59.51 0 1.02-.2 1.41-.59l7.78-7.78 2.81-2.81c.8-.78.8-2.07 0-2.86zM5.41 20L4 18.59l7.72-7.72 1.47 1.35L5.41 20z\"/>\n",
              "  </svg>\n",
              "      </button>\n",
              "      \n",
              "  <style>\n",
              "    .colab-df-container {\n",
              "      display:flex;\n",
              "      flex-wrap:wrap;\n",
              "      gap: 12px;\n",
              "    }\n",
              "\n",
              "    .colab-df-convert {\n",
              "      background-color: #E8F0FE;\n",
              "      border: none;\n",
              "      border-radius: 50%;\n",
              "      cursor: pointer;\n",
              "      display: none;\n",
              "      fill: #1967D2;\n",
              "      height: 32px;\n",
              "      padding: 0 0 0 0;\n",
              "      width: 32px;\n",
              "    }\n",
              "\n",
              "    .colab-df-convert:hover {\n",
              "      background-color: #E2EBFA;\n",
              "      box-shadow: 0px 1px 2px rgba(60, 64, 67, 0.3), 0px 1px 3px 1px rgba(60, 64, 67, 0.15);\n",
              "      fill: #174EA6;\n",
              "    }\n",
              "\n",
              "    [theme=dark] .colab-df-convert {\n",
              "      background-color: #3B4455;\n",
              "      fill: #D2E3FC;\n",
              "    }\n",
              "\n",
              "    [theme=dark] .colab-df-convert:hover {\n",
              "      background-color: #434B5C;\n",
              "      box-shadow: 0px 1px 3px 1px rgba(0, 0, 0, 0.15);\n",
              "      filter: drop-shadow(0px 1px 2px rgba(0, 0, 0, 0.3));\n",
              "      fill: #FFFFFF;\n",
              "    }\n",
              "  </style>\n",
              "\n",
              "      <script>\n",
              "        const buttonEl =\n",
              "          document.querySelector('#df-1c16910f-0ddb-4f55-8116-e7bb6c358492 button.colab-df-convert');\n",
              "        buttonEl.style.display =\n",
              "          google.colab.kernel.accessAllowed ? 'block' : 'none';\n",
              "\n",
              "        async function convertToInteractive(key) {\n",
              "          const element = document.querySelector('#df-1c16910f-0ddb-4f55-8116-e7bb6c358492');\n",
              "          const dataTable =\n",
              "            await google.colab.kernel.invokeFunction('convertToInteractive',\n",
              "                                                     [key], {});\n",
              "          if (!dataTable) return;\n",
              "\n",
              "          const docLinkHtml = 'Like what you see? Visit the ' +\n",
              "            '<a target=\"_blank\" href=https://colab.research.google.com/notebooks/data_table.ipynb>data table notebook</a>'\n",
              "            + ' to learn more about interactive tables.';\n",
              "          element.innerHTML = '';\n",
              "          dataTable['output_type'] = 'display_data';\n",
              "          await google.colab.output.renderOutput(dataTable, element);\n",
              "          const docLink = document.createElement('div');\n",
              "          docLink.innerHTML = docLinkHtml;\n",
              "          element.appendChild(docLink);\n",
              "        }\n",
              "      </script>\n",
              "    </div>\n",
              "  </div>\n",
              "  "
            ]
          },
          "metadata": {},
          "execution_count": 120
        }
      ]
    },
    {
      "cell_type": "code",
      "source": [
        "a=fc['trend']"
      ],
      "metadata": {
        "id": "gq59_6c6LCnl"
      },
      "execution_count": 121,
      "outputs": []
    },
    {
      "cell_type": "code",
      "source": [
        "a.reset_index(drop=True , inplace=True)\n"
      ],
      "metadata": {
        "id": "NKpi0wJOLEWU"
      },
      "execution_count": 122,
      "outputs": []
    },
    {
      "cell_type": "code",
      "source": [
        "a"
      ],
      "metadata": {
        "colab": {
          "base_uri": "https://localhost:8080/"
        },
        "id": "6VPmIJRhLp-5",
        "outputId": "400c751a-5e14-4c7a-b830-e3cb7c1c8414"
      },
      "execution_count": 123,
      "outputs": [
        {
          "output_type": "execute_result",
          "data": {
            "text/plain": [
              "0       88.542170\n",
              "1       88.647826\n",
              "2       88.753483\n",
              "3       88.859140\n",
              "4       88.964796\n",
              "          ...    \n",
              "757    168.524167\n",
              "758    168.629824\n",
              "759    168.735480\n",
              "760    168.841137\n",
              "761    168.946793\n",
              "Name: trend, Length: 762, dtype: float64"
            ]
          },
          "metadata": {},
          "execution_count": 123
        }
      ]
    },
    {
      "cell_type": "markdown",
      "source": [
        "LSTM"
      ],
      "metadata": {
        "id": "0GH6U45S7qPT"
      }
    },
    {
      "cell_type": "code",
      "source": [
        "#1. take dataframe and drop na\n",
        "dataset_lstm_df = dataset_TI_df.drop(columns='Date')\n",
        "dataset_lstm_df.head(7)"
      ],
      "metadata": {
        "colab": {
          "base_uri": "https://localhost:8080/",
          "height": 269
        },
        "id": "x83rKrZV7WZ8",
        "outputId": "8cf25fa9-317c-420a-aa64-26109de5006c"
      },
      "execution_count": 124,
      "outputs": [
        {
          "output_type": "execute_result",
          "data": {
            "text/plain": [
              "      Open     High      Low    Close  Adj Close     Volume        ma7  ma21  \\\n",
              "0  12.3495  12.5000  12.2625  12.3110    12.3110   72950000        NaN   NaN   \n",
              "1  12.4035  12.4725  12.2750  12.4135    12.4135   66950000        NaN   NaN   \n",
              "2  12.4135  12.5500  12.2330  12.3940    12.3940   79016000        NaN   NaN   \n",
              "3  12.3805  12.4305  12.2650  12.3110    12.3110   53052000        NaN   NaN   \n",
              "4  12.4115  12.6350  12.3600  12.5690    12.5690  107228000        NaN   NaN   \n",
              "5  12.6925  12.9710  12.6760  12.9570    12.9570  100590000        NaN   NaN   \n",
              "6  12.9500  13.0000  12.8410  12.8545    12.8545   51344000  12.544286   NaN   \n",
              "\n",
              "       26ema      12ema      MACD  20sd  upper_band  lower_band        ema  \\\n",
              "0  12.311000  12.311000  0.000000   NaN         NaN         NaN  12.311000   \n",
              "1  12.364221  12.366521  0.002300   NaN         NaN         NaN  12.387875   \n",
              "2  12.374920  12.377246  0.002326   NaN         NaN         NaN  12.392115   \n",
              "3  12.357051  12.356335 -0.000716   NaN         NaN         NaN  12.337362   \n",
              "4  12.406203  12.414115  0.007912   NaN         NaN         NaN  12.492426   \n",
              "5  12.516523  12.546065  0.029542   NaN         NaN         NaN  12.802567   \n",
              "6  12.576631  12.614891  0.038260   NaN         NaN         NaN  12.837205   \n",
              "\n",
              "   momentum  \n",
              "0 -0.876890  \n",
              "1 -0.875865  \n",
              "2 -0.876060  \n",
              "3 -0.876890  \n",
              "4 -0.874310  \n",
              "5 -0.870430  \n",
              "6 -0.871455  "
            ],
            "text/html": [
              "\n",
              "  <div id=\"df-0a38c48e-d0db-4aaf-9421-0b60407df1b9\">\n",
              "    <div class=\"colab-df-container\">\n",
              "      <div>\n",
              "<style scoped>\n",
              "    .dataframe tbody tr th:only-of-type {\n",
              "        vertical-align: middle;\n",
              "    }\n",
              "\n",
              "    .dataframe tbody tr th {\n",
              "        vertical-align: top;\n",
              "    }\n",
              "\n",
              "    .dataframe thead th {\n",
              "        text-align: right;\n",
              "    }\n",
              "</style>\n",
              "<table border=\"1\" class=\"dataframe\">\n",
              "  <thead>\n",
              "    <tr style=\"text-align: right;\">\n",
              "      <th></th>\n",
              "      <th>Open</th>\n",
              "      <th>High</th>\n",
              "      <th>Low</th>\n",
              "      <th>Close</th>\n",
              "      <th>Adj Close</th>\n",
              "      <th>Volume</th>\n",
              "      <th>ma7</th>\n",
              "      <th>ma21</th>\n",
              "      <th>26ema</th>\n",
              "      <th>12ema</th>\n",
              "      <th>MACD</th>\n",
              "      <th>20sd</th>\n",
              "      <th>upper_band</th>\n",
              "      <th>lower_band</th>\n",
              "      <th>ema</th>\n",
              "      <th>momentum</th>\n",
              "    </tr>\n",
              "  </thead>\n",
              "  <tbody>\n",
              "    <tr>\n",
              "      <th>0</th>\n",
              "      <td>12.3495</td>\n",
              "      <td>12.5000</td>\n",
              "      <td>12.2625</td>\n",
              "      <td>12.3110</td>\n",
              "      <td>12.3110</td>\n",
              "      <td>72950000</td>\n",
              "      <td>NaN</td>\n",
              "      <td>NaN</td>\n",
              "      <td>12.311000</td>\n",
              "      <td>12.311000</td>\n",
              "      <td>0.000000</td>\n",
              "      <td>NaN</td>\n",
              "      <td>NaN</td>\n",
              "      <td>NaN</td>\n",
              "      <td>12.311000</td>\n",
              "      <td>-0.876890</td>\n",
              "    </tr>\n",
              "    <tr>\n",
              "      <th>1</th>\n",
              "      <td>12.4035</td>\n",
              "      <td>12.4725</td>\n",
              "      <td>12.2750</td>\n",
              "      <td>12.4135</td>\n",
              "      <td>12.4135</td>\n",
              "      <td>66950000</td>\n",
              "      <td>NaN</td>\n",
              "      <td>NaN</td>\n",
              "      <td>12.364221</td>\n",
              "      <td>12.366521</td>\n",
              "      <td>0.002300</td>\n",
              "      <td>NaN</td>\n",
              "      <td>NaN</td>\n",
              "      <td>NaN</td>\n",
              "      <td>12.387875</td>\n",
              "      <td>-0.875865</td>\n",
              "    </tr>\n",
              "    <tr>\n",
              "      <th>2</th>\n",
              "      <td>12.4135</td>\n",
              "      <td>12.5500</td>\n",
              "      <td>12.2330</td>\n",
              "      <td>12.3940</td>\n",
              "      <td>12.3940</td>\n",
              "      <td>79016000</td>\n",
              "      <td>NaN</td>\n",
              "      <td>NaN</td>\n",
              "      <td>12.374920</td>\n",
              "      <td>12.377246</td>\n",
              "      <td>0.002326</td>\n",
              "      <td>NaN</td>\n",
              "      <td>NaN</td>\n",
              "      <td>NaN</td>\n",
              "      <td>12.392115</td>\n",
              "      <td>-0.876060</td>\n",
              "    </tr>\n",
              "    <tr>\n",
              "      <th>3</th>\n",
              "      <td>12.3805</td>\n",
              "      <td>12.4305</td>\n",
              "      <td>12.2650</td>\n",
              "      <td>12.3110</td>\n",
              "      <td>12.3110</td>\n",
              "      <td>53052000</td>\n",
              "      <td>NaN</td>\n",
              "      <td>NaN</td>\n",
              "      <td>12.357051</td>\n",
              "      <td>12.356335</td>\n",
              "      <td>-0.000716</td>\n",
              "      <td>NaN</td>\n",
              "      <td>NaN</td>\n",
              "      <td>NaN</td>\n",
              "      <td>12.337362</td>\n",
              "      <td>-0.876890</td>\n",
              "    </tr>\n",
              "    <tr>\n",
              "      <th>4</th>\n",
              "      <td>12.4115</td>\n",
              "      <td>12.6350</td>\n",
              "      <td>12.3600</td>\n",
              "      <td>12.5690</td>\n",
              "      <td>12.5690</td>\n",
              "      <td>107228000</td>\n",
              "      <td>NaN</td>\n",
              "      <td>NaN</td>\n",
              "      <td>12.406203</td>\n",
              "      <td>12.414115</td>\n",
              "      <td>0.007912</td>\n",
              "      <td>NaN</td>\n",
              "      <td>NaN</td>\n",
              "      <td>NaN</td>\n",
              "      <td>12.492426</td>\n",
              "      <td>-0.874310</td>\n",
              "    </tr>\n",
              "    <tr>\n",
              "      <th>5</th>\n",
              "      <td>12.6925</td>\n",
              "      <td>12.9710</td>\n",
              "      <td>12.6760</td>\n",
              "      <td>12.9570</td>\n",
              "      <td>12.9570</td>\n",
              "      <td>100590000</td>\n",
              "      <td>NaN</td>\n",
              "      <td>NaN</td>\n",
              "      <td>12.516523</td>\n",
              "      <td>12.546065</td>\n",
              "      <td>0.029542</td>\n",
              "      <td>NaN</td>\n",
              "      <td>NaN</td>\n",
              "      <td>NaN</td>\n",
              "      <td>12.802567</td>\n",
              "      <td>-0.870430</td>\n",
              "    </tr>\n",
              "    <tr>\n",
              "      <th>6</th>\n",
              "      <td>12.9500</td>\n",
              "      <td>13.0000</td>\n",
              "      <td>12.8410</td>\n",
              "      <td>12.8545</td>\n",
              "      <td>12.8545</td>\n",
              "      <td>51344000</td>\n",
              "      <td>12.544286</td>\n",
              "      <td>NaN</td>\n",
              "      <td>12.576631</td>\n",
              "      <td>12.614891</td>\n",
              "      <td>0.038260</td>\n",
              "      <td>NaN</td>\n",
              "      <td>NaN</td>\n",
              "      <td>NaN</td>\n",
              "      <td>12.837205</td>\n",
              "      <td>-0.871455</td>\n",
              "    </tr>\n",
              "  </tbody>\n",
              "</table>\n",
              "</div>\n",
              "      <button class=\"colab-df-convert\" onclick=\"convertToInteractive('df-0a38c48e-d0db-4aaf-9421-0b60407df1b9')\"\n",
              "              title=\"Convert this dataframe to an interactive table.\"\n",
              "              style=\"display:none;\">\n",
              "        \n",
              "  <svg xmlns=\"http://www.w3.org/2000/svg\" height=\"24px\"viewBox=\"0 0 24 24\"\n",
              "       width=\"24px\">\n",
              "    <path d=\"M0 0h24v24H0V0z\" fill=\"none\"/>\n",
              "    <path d=\"M18.56 5.44l.94 2.06.94-2.06 2.06-.94-2.06-.94-.94-2.06-.94 2.06-2.06.94zm-11 1L8.5 8.5l.94-2.06 2.06-.94-2.06-.94L8.5 2.5l-.94 2.06-2.06.94zm10 10l.94 2.06.94-2.06 2.06-.94-2.06-.94-.94-2.06-.94 2.06-2.06.94z\"/><path d=\"M17.41 7.96l-1.37-1.37c-.4-.4-.92-.59-1.43-.59-.52 0-1.04.2-1.43.59L10.3 9.45l-7.72 7.72c-.78.78-.78 2.05 0 2.83L4 21.41c.39.39.9.59 1.41.59.51 0 1.02-.2 1.41-.59l7.78-7.78 2.81-2.81c.8-.78.8-2.07 0-2.86zM5.41 20L4 18.59l7.72-7.72 1.47 1.35L5.41 20z\"/>\n",
              "  </svg>\n",
              "      </button>\n",
              "      \n",
              "  <style>\n",
              "    .colab-df-container {\n",
              "      display:flex;\n",
              "      flex-wrap:wrap;\n",
              "      gap: 12px;\n",
              "    }\n",
              "\n",
              "    .colab-df-convert {\n",
              "      background-color: #E8F0FE;\n",
              "      border: none;\n",
              "      border-radius: 50%;\n",
              "      cursor: pointer;\n",
              "      display: none;\n",
              "      fill: #1967D2;\n",
              "      height: 32px;\n",
              "      padding: 0 0 0 0;\n",
              "      width: 32px;\n",
              "    }\n",
              "\n",
              "    .colab-df-convert:hover {\n",
              "      background-color: #E2EBFA;\n",
              "      box-shadow: 0px 1px 2px rgba(60, 64, 67, 0.3), 0px 1px 3px 1px rgba(60, 64, 67, 0.15);\n",
              "      fill: #174EA6;\n",
              "    }\n",
              "\n",
              "    [theme=dark] .colab-df-convert {\n",
              "      background-color: #3B4455;\n",
              "      fill: #D2E3FC;\n",
              "    }\n",
              "\n",
              "    [theme=dark] .colab-df-convert:hover {\n",
              "      background-color: #434B5C;\n",
              "      box-shadow: 0px 1px 3px 1px rgba(0, 0, 0, 0.15);\n",
              "      filter: drop-shadow(0px 1px 2px rgba(0, 0, 0, 0.3));\n",
              "      fill: #FFFFFF;\n",
              "    }\n",
              "  </style>\n",
              "\n",
              "      <script>\n",
              "        const buttonEl =\n",
              "          document.querySelector('#df-0a38c48e-d0db-4aaf-9421-0b60407df1b9 button.colab-df-convert');\n",
              "        buttonEl.style.display =\n",
              "          google.colab.kernel.accessAllowed ? 'block' : 'none';\n",
              "\n",
              "        async function convertToInteractive(key) {\n",
              "          const element = document.querySelector('#df-0a38c48e-d0db-4aaf-9421-0b60407df1b9');\n",
              "          const dataTable =\n",
              "            await google.colab.kernel.invokeFunction('convertToInteractive',\n",
              "                                                     [key], {});\n",
              "          if (!dataTable) return;\n",
              "\n",
              "          const docLinkHtml = 'Like what you see? Visit the ' +\n",
              "            '<a target=\"_blank\" href=https://colab.research.google.com/notebooks/data_table.ipynb>data table notebook</a>'\n",
              "            + ' to learn more about interactive tables.';\n",
              "          element.innerHTML = '';\n",
              "          dataTable['output_type'] = 'display_data';\n",
              "          await google.colab.output.renderOutput(dataTable, element);\n",
              "          const docLink = document.createElement('div');\n",
              "          docLink.innerHTML = docLinkHtml;\n",
              "          element.appendChild(docLink);\n",
              "        }\n",
              "      </script>\n",
              "    </div>\n",
              "  </div>\n",
              "  "
            ]
          },
          "metadata": {},
          "execution_count": 124
        }
      ]
    },
    {
      "cell_type": "code",
      "source": [
        "print('Total dataset has {} samples, and {} features.'.format(dataset_lstm_df.shape[0], \\\n",
        "                                                              dataset_lstm_df.shape[1]))"
      ],
      "metadata": {
        "colab": {
          "base_uri": "https://localhost:8080/"
        },
        "id": "rBQ8PAep7u5m",
        "outputId": "f4ddffb4-2498-424c-ec26-085570ddf275"
      },
      "execution_count": 125,
      "outputs": [
        {
          "output_type": "stream",
          "name": "stdout",
          "text": [
            "Total dataset has 2263 samples, and 16 features.\n"
          ]
        }
      ]
    },
    {
      "cell_type": "code",
      "source": [
        "from keras.models import Sequential\n",
        "from keras.layers import Dense\n",
        "from keras.layers import LSTM\n",
        "from keras.layers import Dropout\n",
        "from keras.layers import Flatten"
      ],
      "metadata": {
        "id": "Uv5cV9ln7yfr"
      },
      "execution_count": 126,
      "outputs": []
    },
    {
      "cell_type": "code",
      "source": [
        "#creating test, train and validate trains\n",
        "train, validate, test = np.split(dataset_lstm_df.sample(frac=1), [int(.6*len(dataset_lstm_df)), int(.8*len(dataset_lstm_df))])"
      ],
      "metadata": {
        "id": "RTD19i0472Tq"
      },
      "execution_count": 127,
      "outputs": []
    },
    {
      "cell_type": "code",
      "source": [
        "open_training = train.iloc[:, 1:2].values"
      ],
      "metadata": {
        "id": "a_BZfLAM76uc"
      },
      "execution_count": 128,
      "outputs": []
    },
    {
      "cell_type": "markdown",
      "source": [
        "Normalise the data"
      ],
      "metadata": {
        "id": "soiOfXXF8C3w"
      }
    },
    {
      "cell_type": "code",
      "source": [
        "#normalise\n",
        "from sklearn.preprocessing import MinMaxScaler\n",
        "scaler = MinMaxScaler(feature_range = (0, 1))\n",
        "open_training = scaler.fit_transform(open_training)\n",
        "#convert to right shape\n",
        "features_set_1 = []\n",
        "labels_1 = []\n",
        "for i in range(60,450): \n",
        "    features_set_1.append(open_training[i-60:i, 0])\n",
        "    labels_1.append(open_training[i, 0])"
      ],
      "metadata": {
        "id": "BebSgML-8A65"
      },
      "execution_count": 129,
      "outputs": []
    },
    {
      "cell_type": "code",
      "source": [
        ""
      ],
      "metadata": {
        "id": "GUO144TM8Hsk"
      },
      "execution_count": 129,
      "outputs": []
    },
    {
      "cell_type": "markdown",
      "metadata": {
        "id": "jlnOEFRAjjPM"
      },
      "source": [
        "**USING 5FEATURES :**\n",
        "\n",
        "\n",
        "**USING THE BEST 5 FEATURES FROM THE RESULT OF THE XGBOOST. ITS QUITE OBVIOUS THAT A SINGLE FEATURE WILL NOT WORK SO WE USE THE 6 FEATURES THAT\n",
        "COULD GENERATE THE BEST OUTCOME FROM XGBOOST**"
      ]
    },
    {
      "cell_type": "code",
      "execution_count": 130,
      "metadata": {
        "id": "4sxE7ubqKuI6"
      },
      "outputs": [],
      "source": [
        "dataset = dataset_ex_df[['Open', 'Close','High','Adj Close','Low']]"
      ]
    },
    {
      "cell_type": "code",
      "execution_count": 131,
      "metadata": {
        "id": "CMVCWkeJjrb5",
        "colab": {
          "base_uri": "https://localhost:8080/",
          "height": 206
        },
        "outputId": "a3087948-ff80-4d0c-813b-aa29b4f4b6bb"
      },
      "outputs": [
        {
          "output_type": "execute_result",
          "data": {
            "text/plain": [
              "      Open    Close     High  Adj Close      Low\n",
              "0  12.3495  12.3110  12.5000    12.3110  12.2625\n",
              "1  12.4035  12.4135  12.4725    12.4135  12.2750\n",
              "2  12.4135  12.3940  12.5500    12.3940  12.2330\n",
              "3  12.3805  12.3110  12.4305    12.3110  12.2650\n",
              "4  12.4115  12.5690  12.6350    12.5690  12.3600"
            ],
            "text/html": [
              "\n",
              "  <div id=\"df-6f672d65-c815-436d-8465-afc6758b27e5\">\n",
              "    <div class=\"colab-df-container\">\n",
              "      <div>\n",
              "<style scoped>\n",
              "    .dataframe tbody tr th:only-of-type {\n",
              "        vertical-align: middle;\n",
              "    }\n",
              "\n",
              "    .dataframe tbody tr th {\n",
              "        vertical-align: top;\n",
              "    }\n",
              "\n",
              "    .dataframe thead th {\n",
              "        text-align: right;\n",
              "    }\n",
              "</style>\n",
              "<table border=\"1\" class=\"dataframe\">\n",
              "  <thead>\n",
              "    <tr style=\"text-align: right;\">\n",
              "      <th></th>\n",
              "      <th>Open</th>\n",
              "      <th>Close</th>\n",
              "      <th>High</th>\n",
              "      <th>Adj Close</th>\n",
              "      <th>Low</th>\n",
              "    </tr>\n",
              "  </thead>\n",
              "  <tbody>\n",
              "    <tr>\n",
              "      <th>0</th>\n",
              "      <td>12.3495</td>\n",
              "      <td>12.3110</td>\n",
              "      <td>12.5000</td>\n",
              "      <td>12.3110</td>\n",
              "      <td>12.2625</td>\n",
              "    </tr>\n",
              "    <tr>\n",
              "      <th>1</th>\n",
              "      <td>12.4035</td>\n",
              "      <td>12.4135</td>\n",
              "      <td>12.4725</td>\n",
              "      <td>12.4135</td>\n",
              "      <td>12.2750</td>\n",
              "    </tr>\n",
              "    <tr>\n",
              "      <th>2</th>\n",
              "      <td>12.4135</td>\n",
              "      <td>12.3940</td>\n",
              "      <td>12.5500</td>\n",
              "      <td>12.3940</td>\n",
              "      <td>12.2330</td>\n",
              "    </tr>\n",
              "    <tr>\n",
              "      <th>3</th>\n",
              "      <td>12.3805</td>\n",
              "      <td>12.3110</td>\n",
              "      <td>12.4305</td>\n",
              "      <td>12.3110</td>\n",
              "      <td>12.2650</td>\n",
              "    </tr>\n",
              "    <tr>\n",
              "      <th>4</th>\n",
              "      <td>12.4115</td>\n",
              "      <td>12.5690</td>\n",
              "      <td>12.6350</td>\n",
              "      <td>12.5690</td>\n",
              "      <td>12.3600</td>\n",
              "    </tr>\n",
              "  </tbody>\n",
              "</table>\n",
              "</div>\n",
              "      <button class=\"colab-df-convert\" onclick=\"convertToInteractive('df-6f672d65-c815-436d-8465-afc6758b27e5')\"\n",
              "              title=\"Convert this dataframe to an interactive table.\"\n",
              "              style=\"display:none;\">\n",
              "        \n",
              "  <svg xmlns=\"http://www.w3.org/2000/svg\" height=\"24px\"viewBox=\"0 0 24 24\"\n",
              "       width=\"24px\">\n",
              "    <path d=\"M0 0h24v24H0V0z\" fill=\"none\"/>\n",
              "    <path d=\"M18.56 5.44l.94 2.06.94-2.06 2.06-.94-2.06-.94-.94-2.06-.94 2.06-2.06.94zm-11 1L8.5 8.5l.94-2.06 2.06-.94-2.06-.94L8.5 2.5l-.94 2.06-2.06.94zm10 10l.94 2.06.94-2.06 2.06-.94-2.06-.94-.94-2.06-.94 2.06-2.06.94z\"/><path d=\"M17.41 7.96l-1.37-1.37c-.4-.4-.92-.59-1.43-.59-.52 0-1.04.2-1.43.59L10.3 9.45l-7.72 7.72c-.78.78-.78 2.05 0 2.83L4 21.41c.39.39.9.59 1.41.59.51 0 1.02-.2 1.41-.59l7.78-7.78 2.81-2.81c.8-.78.8-2.07 0-2.86zM5.41 20L4 18.59l7.72-7.72 1.47 1.35L5.41 20z\"/>\n",
              "  </svg>\n",
              "      </button>\n",
              "      \n",
              "  <style>\n",
              "    .colab-df-container {\n",
              "      display:flex;\n",
              "      flex-wrap:wrap;\n",
              "      gap: 12px;\n",
              "    }\n",
              "\n",
              "    .colab-df-convert {\n",
              "      background-color: #E8F0FE;\n",
              "      border: none;\n",
              "      border-radius: 50%;\n",
              "      cursor: pointer;\n",
              "      display: none;\n",
              "      fill: #1967D2;\n",
              "      height: 32px;\n",
              "      padding: 0 0 0 0;\n",
              "      width: 32px;\n",
              "    }\n",
              "\n",
              "    .colab-df-convert:hover {\n",
              "      background-color: #E2EBFA;\n",
              "      box-shadow: 0px 1px 2px rgba(60, 64, 67, 0.3), 0px 1px 3px 1px rgba(60, 64, 67, 0.15);\n",
              "      fill: #174EA6;\n",
              "    }\n",
              "\n",
              "    [theme=dark] .colab-df-convert {\n",
              "      background-color: #3B4455;\n",
              "      fill: #D2E3FC;\n",
              "    }\n",
              "\n",
              "    [theme=dark] .colab-df-convert:hover {\n",
              "      background-color: #434B5C;\n",
              "      box-shadow: 0px 1px 3px 1px rgba(0, 0, 0, 0.15);\n",
              "      filter: drop-shadow(0px 1px 2px rgba(0, 0, 0, 0.3));\n",
              "      fill: #FFFFFF;\n",
              "    }\n",
              "  </style>\n",
              "\n",
              "      <script>\n",
              "        const buttonEl =\n",
              "          document.querySelector('#df-6f672d65-c815-436d-8465-afc6758b27e5 button.colab-df-convert');\n",
              "        buttonEl.style.display =\n",
              "          google.colab.kernel.accessAllowed ? 'block' : 'none';\n",
              "\n",
              "        async function convertToInteractive(key) {\n",
              "          const element = document.querySelector('#df-6f672d65-c815-436d-8465-afc6758b27e5');\n",
              "          const dataTable =\n",
              "            await google.colab.kernel.invokeFunction('convertToInteractive',\n",
              "                                                     [key], {});\n",
              "          if (!dataTable) return;\n",
              "\n",
              "          const docLinkHtml = 'Like what you see? Visit the ' +\n",
              "            '<a target=\"_blank\" href=https://colab.research.google.com/notebooks/data_table.ipynb>data table notebook</a>'\n",
              "            + ' to learn more about interactive tables.';\n",
              "          element.innerHTML = '';\n",
              "          dataTable['output_type'] = 'display_data';\n",
              "          await google.colab.output.renderOutput(dataTable, element);\n",
              "          const docLink = document.createElement('div');\n",
              "          docLink.innerHTML = docLinkHtml;\n",
              "          element.appendChild(docLink);\n",
              "        }\n",
              "      </script>\n",
              "    </div>\n",
              "  </div>\n",
              "  "
            ]
          },
          "metadata": {},
          "execution_count": 131
        }
      ],
      "source": [
        "dataset.head()"
      ]
    },
    {
      "cell_type": "code",
      "execution_count": 132,
      "metadata": {
        "id": "IcdIP_gtw9DB"
      },
      "outputs": [],
      "source": [
        "# FUNCTION TO CREATE 1D DATA INTO TIME SERIES DATASET\n",
        "def new_dataset(dataset, step_size):\n",
        "\tdata_X, data_Y = [], []\n",
        "\tfor i in range(len(dataset)-step_size-1):\n",
        "\t\ta = dataset[i:(i+step_size), 0]\n",
        "\t\tdata_X.append(a)\n",
        "\t\tdata_Y.append(dataset[i + step_size, 0])\n",
        "\treturn np.array(data_X), np.array(data_Y)"
      ]
    },
    {
      "cell_type": "code",
      "execution_count": 133,
      "metadata": {
        "id": "5ovu8nAJxFRb"
      },
      "outputs": [],
      "source": [
        "# IMPORTING IMPORTANT LIBRARIES\n",
        "import pandas as pd\n",
        "import matplotlib.pyplot as plt\n",
        "import numpy as np \n",
        "import math\n",
        "from sklearn.preprocessing import MinMaxScaler\n",
        "from sklearn.metrics import mean_squared_error\n",
        "from keras.models import Sequential\n",
        "from keras.layers import Dense, Activation\n",
        "from keras.layers import LSTM\n"
      ]
    },
    {
      "cell_type": "code",
      "execution_count": 134,
      "metadata": {
        "id": "MR5ZH2cUxKpv"
      },
      "outputs": [],
      "source": [
        "# FOR REPRODUCIBILITY\n",
        "np.random.seed(7)"
      ]
    },
    {
      "cell_type": "code",
      "execution_count": 135,
      "metadata": {
        "id": "HEBGkQJQxNrF"
      },
      "outputs": [],
      "source": [
        "# IMPORTING DATASET \n",
        "dataset = dataset.reindex(index = dataset.index[::-1])"
      ]
    },
    {
      "cell_type": "code",
      "execution_count": 136,
      "metadata": {
        "id": "qjQJZJx-xQOY"
      },
      "outputs": [],
      "source": [
        "# CREATING OWN INDEX FOR FLEXIBILITY\n",
        "obs = np.arange(1, len(dataset) + 1, 1)"
      ]
    },
    {
      "cell_type": "code",
      "execution_count": 137,
      "metadata": {
        "id": "LFjIZMzJxUFR"
      },
      "outputs": [],
      "source": [
        "# TAKING DIFFERENT INDICATORS FOR PREDICTION\n",
        "OHLC_avg = dataset.mean(axis = 1)\n",
        "HLC_avg = dataset[['High', 'Low', 'Close']].mean(axis = 1)\n",
        "close_val = dataset[['Close']]"
      ]
    },
    {
      "cell_type": "code",
      "execution_count": 138,
      "metadata": {
        "id": "z8Dx3owPynMb"
      },
      "outputs": [],
      "source": [
        "# PREPARATION OF TIME SERIES DATASE\n",
        "OHLC_avg = np.reshape(OHLC_avg.values, (len(OHLC_avg),1)) \n",
        "scaler = MinMaxScaler(feature_range=(0, 1))\n",
        "OHLC_avg = scaler.fit_transform(OHLC_avg)"
      ]
    },
    {
      "cell_type": "code",
      "execution_count": 139,
      "metadata": {
        "id": "9HAD1oZozwym"
      },
      "outputs": [],
      "source": [
        "# TRAIN-TEST SPLIT\n",
        "train_OHLC = int(len(OHLC_avg) * 0.75)\n",
        "test_OHLC = len(OHLC_avg) - train_OHLC\n",
        "train_OHLC, test_OHLC = OHLC_avg[0:train_OHLC,:], OHLC_avg[train_OHLC:len(OHLC_avg),:]"
      ]
    },
    {
      "cell_type": "code",
      "execution_count": 140,
      "metadata": {
        "id": "Yet5xNOoz0x-"
      },
      "outputs": [],
      "source": [
        "# TIME-SERIES DATASET (FOR TIME T, VALUES FOR TIME T+1)\n",
        "trainX, trainY = new_dataset(train_OHLC, 1)\n",
        "testX, testY = new_dataset(test_OHLC, 1)"
      ]
    },
    {
      "cell_type": "code",
      "execution_count": 141,
      "metadata": {
        "id": "FHbI5KDKz4W7"
      },
      "outputs": [],
      "source": [
        "# RESHAPING TRAIN AND TEST DATA\n",
        "trainX = np.reshape(trainX, (trainX.shape[0], 1, trainX.shape[1]))\n",
        "testX = np.reshape(testX, (testX.shape[0], 1, testX.shape[1]))\n",
        "step_size = 1\n"
      ]
    },
    {
      "cell_type": "code",
      "execution_count": 142,
      "metadata": {
        "id": "ycBSKqy9z78c"
      },
      "outputs": [],
      "source": [
        "# LSTM MODEL\n",
        "model = Sequential()\n",
        "model.add(LSTM(32, input_shape=(1, step_size), return_sequences = True))\n",
        "model.add(LSTM(16))\n",
        "model.add(Dense(1))\n",
        "model.add(Activation('linear'))"
      ]
    },
    {
      "cell_type": "code",
      "execution_count": 143,
      "metadata": {
        "id": "eW5inyg0z_b1",
        "colab": {
          "base_uri": "https://localhost:8080/"
        },
        "outputId": "d4ea2124-413d-4302-bb57-bac71749d20b"
      },
      "outputs": [
        {
          "output_type": "stream",
          "name": "stdout",
          "text": [
            "Epoch 1/50\n",
            "1695/1695 - 9s - loss: 0.1397 - mae: 0.2805 - 9s/epoch - 5ms/step\n",
            "Epoch 2/50\n",
            "1695/1695 - 6s - loss: 0.0948 - mae: 0.2281 - 6s/epoch - 4ms/step\n",
            "Epoch 3/50\n",
            "1695/1695 - 7s - loss: 0.0755 - mae: 0.2126 - 7s/epoch - 4ms/step\n",
            "Epoch 4/50\n",
            "1695/1695 - 7s - loss: 0.0654 - mae: 0.2051 - 7s/epoch - 4ms/step\n",
            "Epoch 5/50\n",
            "1695/1695 - 7s - loss: 0.0597 - mae: 0.1991 - 7s/epoch - 4ms/step\n",
            "Epoch 6/50\n",
            "1695/1695 - 7s - loss: 0.0562 - mae: 0.1947 - 7s/epoch - 4ms/step\n",
            "Epoch 7/50\n",
            "1695/1695 - 6s - loss: 0.0538 - mae: 0.1912 - 6s/epoch - 4ms/step\n",
            "Epoch 8/50\n",
            "1695/1695 - 6s - loss: 0.0520 - mae: 0.1884 - 6s/epoch - 4ms/step\n",
            "Epoch 9/50\n",
            "1695/1695 - 6s - loss: 0.0505 - mae: 0.1856 - 6s/epoch - 4ms/step\n",
            "Epoch 10/50\n",
            "1695/1695 - 4s - loss: 0.0491 - mae: 0.1831 - 4s/epoch - 3ms/step\n",
            "Epoch 11/50\n",
            "1695/1695 - 4s - loss: 0.0478 - mae: 0.1807 - 4s/epoch - 2ms/step\n",
            "Epoch 12/50\n",
            "1695/1695 - 4s - loss: 0.0465 - mae: 0.1783 - 4s/epoch - 2ms/step\n",
            "Epoch 13/50\n",
            "1695/1695 - 4s - loss: 0.0453 - mae: 0.1760 - 4s/epoch - 2ms/step\n",
            "Epoch 14/50\n",
            "1695/1695 - 4s - loss: 0.0441 - mae: 0.1736 - 4s/epoch - 2ms/step\n",
            "Epoch 15/50\n",
            "1695/1695 - 4s - loss: 0.0429 - mae: 0.1712 - 4s/epoch - 2ms/step\n",
            "Epoch 16/50\n",
            "1695/1695 - 4s - loss: 0.0417 - mae: 0.1688 - 4s/epoch - 2ms/step\n",
            "Epoch 17/50\n",
            "1695/1695 - 4s - loss: 0.0405 - mae: 0.1664 - 4s/epoch - 2ms/step\n",
            "Epoch 18/50\n",
            "1695/1695 - 4s - loss: 0.0393 - mae: 0.1640 - 4s/epoch - 2ms/step\n",
            "Epoch 19/50\n",
            "1695/1695 - 4s - loss: 0.0381 - mae: 0.1615 - 4s/epoch - 2ms/step\n",
            "Epoch 20/50\n",
            "1695/1695 - 4s - loss: 0.0369 - mae: 0.1590 - 4s/epoch - 2ms/step\n",
            "Epoch 21/50\n",
            "1695/1695 - 4s - loss: 0.0357 - mae: 0.1564 - 4s/epoch - 2ms/step\n",
            "Epoch 22/50\n",
            "1695/1695 - 4s - loss: 0.0346 - mae: 0.1539 - 4s/epoch - 2ms/step\n",
            "Epoch 23/50\n",
            "1695/1695 - 4s - loss: 0.0334 - mae: 0.1513 - 4s/epoch - 2ms/step\n",
            "Epoch 24/50\n",
            "1695/1695 - 4s - loss: 0.0323 - mae: 0.1487 - 4s/epoch - 2ms/step\n",
            "Epoch 25/50\n",
            "1695/1695 - 4s - loss: 0.0311 - mae: 0.1460 - 4s/epoch - 2ms/step\n",
            "Epoch 26/50\n",
            "1695/1695 - 4s - loss: 0.0300 - mae: 0.1433 - 4s/epoch - 2ms/step\n",
            "Epoch 27/50\n",
            "1695/1695 - 4s - loss: 0.0289 - mae: 0.1406 - 4s/epoch - 2ms/step\n",
            "Epoch 28/50\n",
            "1695/1695 - 4s - loss: 0.0278 - mae: 0.1379 - 4s/epoch - 2ms/step\n",
            "Epoch 29/50\n",
            "1695/1695 - 5s - loss: 0.0267 - mae: 0.1351 - 5s/epoch - 3ms/step\n",
            "Epoch 30/50\n",
            "1695/1695 - 4s - loss: 0.0256 - mae: 0.1324 - 4s/epoch - 2ms/step\n",
            "Epoch 31/50\n",
            "1695/1695 - 4s - loss: 0.0245 - mae: 0.1295 - 4s/epoch - 2ms/step\n",
            "Epoch 32/50\n",
            "1695/1695 - 4s - loss: 0.0234 - mae: 0.1267 - 4s/epoch - 2ms/step\n",
            "Epoch 33/50\n",
            "1695/1695 - 4s - loss: 0.0224 - mae: 0.1239 - 4s/epoch - 2ms/step\n",
            "Epoch 34/50\n",
            "1695/1695 - 4s - loss: 0.0214 - mae: 0.1211 - 4s/epoch - 2ms/step\n",
            "Epoch 35/50\n",
            "1695/1695 - 4s - loss: 0.0204 - mae: 0.1182 - 4s/epoch - 2ms/step\n",
            "Epoch 36/50\n",
            "1695/1695 - 4s - loss: 0.0194 - mae: 0.1154 - 4s/epoch - 2ms/step\n",
            "Epoch 37/50\n",
            "1695/1695 - 4s - loss: 0.0185 - mae: 0.1125 - 4s/epoch - 2ms/step\n",
            "Epoch 38/50\n",
            "1695/1695 - 4s - loss: 0.0175 - mae: 0.1096 - 4s/epoch - 2ms/step\n",
            "Epoch 39/50\n",
            "1695/1695 - 4s - loss: 0.0166 - mae: 0.1067 - 4s/epoch - 2ms/step\n",
            "Epoch 40/50\n",
            "1695/1695 - 4s - loss: 0.0157 - mae: 0.1039 - 4s/epoch - 2ms/step\n",
            "Epoch 41/50\n",
            "1695/1695 - 4s - loss: 0.0149 - mae: 0.1010 - 4s/epoch - 2ms/step\n",
            "Epoch 42/50\n",
            "1695/1695 - 4s - loss: 0.0141 - mae: 0.0981 - 4s/epoch - 2ms/step\n",
            "Epoch 43/50\n",
            "1695/1695 - 4s - loss: 0.0133 - mae: 0.0953 - 4s/epoch - 2ms/step\n",
            "Epoch 44/50\n",
            "1695/1695 - 4s - loss: 0.0125 - mae: 0.0925 - 4s/epoch - 2ms/step\n",
            "Epoch 45/50\n",
            "1695/1695 - 4s - loss: 0.0117 - mae: 0.0896 - 4s/epoch - 2ms/step\n",
            "Epoch 46/50\n",
            "1695/1695 - 4s - loss: 0.0110 - mae: 0.0868 - 4s/epoch - 2ms/step\n",
            "Epoch 47/50\n",
            "1695/1695 - 4s - loss: 0.0103 - mae: 0.0841 - 4s/epoch - 2ms/step\n",
            "Epoch 48/50\n",
            "1695/1695 - 4s - loss: 0.0097 - mae: 0.0813 - 4s/epoch - 2ms/step\n",
            "Epoch 49/50\n",
            "1695/1695 - 4s - loss: 0.0090 - mae: 0.0786 - 4s/epoch - 2ms/step\n",
            "Epoch 50/50\n",
            "1695/1695 - 4s - loss: 0.0084 - mae: 0.0759 - 4s/epoch - 2ms/step\n"
          ]
        },
        {
          "output_type": "execute_result",
          "data": {
            "text/plain": [
              "<keras.callbacks.History at 0x7fd7b01596d0>"
            ]
          },
          "metadata": {},
          "execution_count": 143
        }
      ],
      "source": [
        "# MODEL COMPILING AND TRAINING\n",
        "model.compile(loss='mean_squared_error', optimizer='adagrad',metrics = ['mae']) # Try mae, adam, adagrad and compare!!!\n",
        "model.fit(trainX, trainY, epochs=50, batch_size=1, verbose=2)"
      ]
    },
    {
      "cell_type": "code",
      "execution_count": 144,
      "metadata": {
        "id": "1amjmgWGFICM",
        "colab": {
          "base_uri": "https://localhost:8080/"
        },
        "outputId": "0ef14311-f61e-4886-f70f-438346b0fd10"
      },
      "outputs": [
        {
          "output_type": "stream",
          "name": "stdout",
          "text": [
            "36/36 [==============================] - 2s 2ms/step - loss: 0.0174 - mae: 0.1317\n",
            "Mean Absolute Error for Y: [0.017359156161546707, 0.1316778063774109]\n"
          ]
        }
      ],
      "source": [
        "mae = model.evaluate(testX, testY, batch_size=16)\n",
        "mape=0.152\n",
        "print('Mean Absolute Error for Y:', mae)"
      ]
    },
    {
      "cell_type": "code",
      "execution_count": 145,
      "metadata": {
        "id": "6uYIJzE_0DxZ"
      },
      "outputs": [],
      "source": [
        "# PREDICTION\n",
        "trainPredict = model.predict(trainX)\n",
        "testPredict = model.predict(testX)"
      ]
    },
    {
      "cell_type": "code",
      "source": [
        ""
      ],
      "metadata": {
        "id": "CGvXaqAIJu16"
      },
      "execution_count": 145,
      "outputs": []
    },
    {
      "cell_type": "code",
      "execution_count": 146,
      "metadata": {
        "id": "ROLKJGIl2J_e"
      },
      "outputs": [],
      "source": [
        "# DE-NORMALIZING FOR PLOTTING\n",
        "trainPredict = scaler.inverse_transform(trainPredict)\n",
        "trainY = scaler.inverse_transform([trainY])\n",
        "testPredict = scaler.inverse_transform(testPredict)\n",
        "testY = scaler.inverse_transform([testY])"
      ]
    },
    {
      "cell_type": "code",
      "execution_count": 147,
      "metadata": {
        "id": "R-s7kUbd2KNc",
        "colab": {
          "base_uri": "https://localhost:8080/"
        },
        "outputId": "fff62957-6e29-4e45-9ce2-22263240a382"
      },
      "outputs": [
        {
          "output_type": "stream",
          "name": "stdout",
          "text": [
            "Train : 15.79\n"
          ]
        }
      ],
      "source": [
        "# TRAINING rmse\n",
        "trainScore = math.sqrt(mean_squared_error(trainY[0], trainPredict[:,0]))\n",
        "print('Train : %.2f' % (trainScore))"
      ]
    },
    {
      "cell_type": "code",
      "execution_count": 148,
      "metadata": {
        "id": "PwM4dL-n2Sfr",
        "colab": {
          "base_uri": "https://localhost:8080/"
        },
        "outputId": "1250a2ad-6ee4-457c-e5b7-29a934999a74"
      },
      "outputs": [
        {
          "output_type": "stream",
          "name": "stdout",
          "text": [
            "Test RMSE: 23.09\n",
            "Test MAPE: 0.152\n"
          ]
        }
      ],
      "source": [
        "# TEST RMSE\n",
        "testScore = math.sqrt(mean_squared_error(testY[0], testPredict[:,0]))\n",
        "print('Test RMSE: %.2f' % (testScore))\n",
        "print('Test MAPE: %.3f' % (mape))"
      ]
    },
    {
      "cell_type": "code",
      "execution_count": 149,
      "metadata": {
        "id": "DwSzCAOg2Sui"
      },
      "outputs": [],
      "source": [
        "# CREATING SIMILAR DATASET TO PLOT TRAINING PREDICTIONS\n",
        "trainPredictPlot = np.empty_like(OHLC_avg)\n",
        "trainPredictPlot[:, :] = np.nan\n",
        "trainPredictPlot[step_size:len(trainPredict)+step_size, :] = trainPredict"
      ]
    },
    {
      "cell_type": "code",
      "execution_count": 150,
      "metadata": {
        "id": "JNZkZbvS2S8A"
      },
      "outputs": [],
      "source": [
        "# CREATING SIMILAR DATASSET TO PLOT TEST PREDICTIONS\n",
        "testPredictPlot = np.empty_like(OHLC_avg)\n",
        "testPredictPlot[:, :] = np.nan\n",
        "testPredictPlot[len(trainPredict)+(step_size*2)+1:len(OHLC_avg)-1, :] = testPredict"
      ]
    },
    {
      "cell_type": "code",
      "execution_count": 151,
      "metadata": {
        "id": "C5SQ_pi82KS5",
        "colab": {
          "base_uri": "https://localhost:8080/"
        },
        "outputId": "37c39e6d-3895-4574-c29d-714532e7b98b"
      },
      "outputs": [
        {
          "output_type": "stream",
          "name": "stdout",
          "text": [
            "Last Day Value: 36.453468322753906\n",
            "Next Day Value: 29.337413787841797\n"
          ]
        }
      ],
      "source": [
        "# PREDICT FUTURE VALUES\n",
        "last_val = testPredict[-1]\n",
        "last_val_scaled = last_val/last_val\n",
        "next_val = model.predict(np.reshape(last_val_scaled, (1,1,1)))\n",
        "print(\"Last Day Value:\", np.asscalar(last_val))\n",
        "print(\"Next Day Value:\", np.asscalar(last_val*next_val))\n",
        "# print np.append(last_val, next_val)\n"
      ]
    }
  ],
  "metadata": {
    "colab": {
      "collapsed_sections": [],
      "name": " Amazon Stock Price prediction using ARIMA and LSTM_finsearch .ipynb",
      "provenance": []
    },
    "kernelspec": {
      "display_name": "Python 3",
      "name": "python3"
    },
    "gpuClass": "standard"
  },
  "nbformat": 4,
  "nbformat_minor": 0
}